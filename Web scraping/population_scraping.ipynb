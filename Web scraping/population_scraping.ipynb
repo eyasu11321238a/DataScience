{
 "cells": [
  {
   "cell_type": "markdown",
   "metadata": {},
   "source": [
    "\n",
    "### This program utilizes Selenium to scrape population data tables from worldometers website and store the information in Pandas DataFrames."
   ]
  },
  {
   "cell_type": "code",
   "execution_count": 14,
   "metadata": {},
   "outputs": [],
   "source": [
    "from selenium import webdriver\n",
    "from selenium.webdriver.common.by import By\n",
    "import pandas as pd"
   ]
  },
  {
   "cell_type": "code",
   "execution_count": 9,
   "metadata": {},
   "outputs": [],
   "source": [
    "driver = webdriver.Chrome()\n",
    "driver.get(\"https://www.worldometers.info/world-population/population-by-country/\")\n",
    "driver.maximize_window()"
   ]
  },
  {
   "cell_type": "code",
   "execution_count": 13,
   "metadata": {},
   "outputs": [],
   "source": [
    "countries = driver.find_elements(By.XPATH,\"//tbody//tr//td[2]//a\")\n",
    "population = driver.find_elements(By.XPATH,\"//tbody//tr//td[3]\")\n",
    "yearly_share = driver.find_elements(By.XPATH,\"//tbody//tr//td[4]\")\n",
    "world_share = driver.find_elements(By.XPATH,\"//tbody//tr//td[12]\")\n",
    "\n",
    "\n",
    "population_result = []\n",
    "\n",
    "for i in range(len(yearly_share)):\n",
    "    temporary_data= {\"country\" : countries[i].text,\n",
    "                     \"population\": population[i].text,\n",
    "                     \"yearly share\": yearly_share[i].text,\n",
    "                     \"world share\" : world_share[i].text\n",
    "                     }\n",
    "    population_result.append(temporary_data)"
   ]
  },
  {
   "cell_type": "code",
   "execution_count": 15,
   "metadata": {},
   "outputs": [
    {
     "data": {
      "text/html": [
       "<div>\n",
       "<style scoped>\n",
       "    .dataframe tbody tr th:only-of-type {\n",
       "        vertical-align: middle;\n",
       "    }\n",
       "\n",
       "    .dataframe tbody tr th {\n",
       "        vertical-align: top;\n",
       "    }\n",
       "\n",
       "    .dataframe thead th {\n",
       "        text-align: right;\n",
       "    }\n",
       "</style>\n",
       "<table border=\"1\" class=\"dataframe\">\n",
       "  <thead>\n",
       "    <tr style=\"text-align: right;\">\n",
       "      <th></th>\n",
       "      <th>country</th>\n",
       "      <th>population</th>\n",
       "      <th>yearly share</th>\n",
       "      <th>world share</th>\n",
       "    </tr>\n",
       "  </thead>\n",
       "  <tbody>\n",
       "    <tr>\n",
       "      <th>0</th>\n",
       "      <td>India</td>\n",
       "      <td>1,450,935,791</td>\n",
       "      <td>0.89 %</td>\n",
       "      <td>17.78 %</td>\n",
       "    </tr>\n",
       "    <tr>\n",
       "      <th>1</th>\n",
       "      <td>China</td>\n",
       "      <td>1,419,321,278</td>\n",
       "      <td>-0.23 %</td>\n",
       "      <td>17.39 %</td>\n",
       "    </tr>\n",
       "    <tr>\n",
       "      <th>2</th>\n",
       "      <td>United States</td>\n",
       "      <td>345,426,571</td>\n",
       "      <td>0.57 %</td>\n",
       "      <td>4.23 %</td>\n",
       "    </tr>\n",
       "    <tr>\n",
       "      <th>3</th>\n",
       "      <td>Indonesia</td>\n",
       "      <td>283,487,931</td>\n",
       "      <td>0.82 %</td>\n",
       "      <td>3.47 %</td>\n",
       "    </tr>\n",
       "    <tr>\n",
       "      <th>4</th>\n",
       "      <td>Pakistan</td>\n",
       "      <td>251,269,164</td>\n",
       "      <td>1.52 %</td>\n",
       "      <td>3.08 %</td>\n",
       "    </tr>\n",
       "    <tr>\n",
       "      <th>...</th>\n",
       "      <td>...</td>\n",
       "      <td>...</td>\n",
       "      <td>...</td>\n",
       "      <td>...</td>\n",
       "    </tr>\n",
       "    <tr>\n",
       "      <th>229</th>\n",
       "      <td>Montserrat</td>\n",
       "      <td>4,389</td>\n",
       "      <td>-0.70 %</td>\n",
       "      <td>0.00 %</td>\n",
       "    </tr>\n",
       "    <tr>\n",
       "      <th>230</th>\n",
       "      <td>Falkland Islands</td>\n",
       "      <td>3,470</td>\n",
       "      <td>-0.20 %</td>\n",
       "      <td>0.00 %</td>\n",
       "    </tr>\n",
       "    <tr>\n",
       "      <th>231</th>\n",
       "      <td>Tokelau</td>\n",
       "      <td>2,506</td>\n",
       "      <td>4.55 %</td>\n",
       "      <td>0.00 %</td>\n",
       "    </tr>\n",
       "    <tr>\n",
       "      <th>232</th>\n",
       "      <td>Niue</td>\n",
       "      <td>1,819</td>\n",
       "      <td>0.11 %</td>\n",
       "      <td>0.00 %</td>\n",
       "    </tr>\n",
       "    <tr>\n",
       "      <th>233</th>\n",
       "      <td>Holy See</td>\n",
       "      <td>496</td>\n",
       "      <td>0.00 %</td>\n",
       "      <td>0.00 %</td>\n",
       "    </tr>\n",
       "  </tbody>\n",
       "</table>\n",
       "<p>234 rows × 4 columns</p>\n",
       "</div>"
      ],
      "text/plain": [
       "              country     population yearly share world share\n",
       "0               India  1,450,935,791       0.89 %     17.78 %\n",
       "1               China  1,419,321,278      -0.23 %     17.39 %\n",
       "2       United States    345,426,571       0.57 %      4.23 %\n",
       "3           Indonesia    283,487,931       0.82 %      3.47 %\n",
       "4            Pakistan    251,269,164       1.52 %      3.08 %\n",
       "..                ...            ...          ...         ...\n",
       "229        Montserrat          4,389      -0.70 %      0.00 %\n",
       "230  Falkland Islands          3,470      -0.20 %      0.00 %\n",
       "231           Tokelau          2,506       4.55 %      0.00 %\n",
       "232              Niue          1,819       0.11 %      0.00 %\n",
       "233          Holy See            496       0.00 %      0.00 %\n",
       "\n",
       "[234 rows x 4 columns]"
      ]
     },
     "execution_count": 15,
     "metadata": {},
     "output_type": "execute_result"
    }
   ],
   "source": [
    "df_data = pd.DataFrame(population_result)\n",
    "df_data"
   ]
  },
  {
   "cell_type": "code",
   "execution_count": null,
   "metadata": {},
   "outputs": [],
   "source": []
  }
 ],
 "metadata": {
  "kernelspec": {
   "display_name": "Python 3",
   "language": "python",
   "name": "python3"
  },
  "language_info": {
   "codemirror_mode": {
    "name": "ipython",
    "version": 3
   },
   "file_extension": ".py",
   "mimetype": "text/x-python",
   "name": "python",
   "nbconvert_exporter": "python",
   "pygments_lexer": "ipython3",
   "version": "3.8.0"
  }
 },
 "nbformat": 4,
 "nbformat_minor": 2
}
