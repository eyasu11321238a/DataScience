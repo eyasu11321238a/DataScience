{
  "cells": [
    {
      "cell_type": "markdown",
      "metadata": {
        "colab_type": "text",
        "id": "zZavc8oCeKil"
      },
      "source": [
        "By working for the company, we have access to each customer’s app behaviour data. This data allows us to see the date and time of app installation,as well as the features the users engaged with within the app.App behaviour is characterized as the list of app screens the user looked at, and whether the user looked at,and where the user played the financial mini-games available.The app usage data is only from the user’s first day in the app. This limitation exists because users can enjoy a 24-hour free trial of the premium features,and the company wants to target them with new offers shortly after the trial is over.\n"
      ]
    },
    {
      "cell_type": "code",
      "execution_count": 1,
      "metadata": {
        "colab": {},
        "colab_type": "code",
        "id": "oCMDjev_6o4W"
      },
      "outputs": [],
      "source": [
        "#### Importing Libraries ####\n",
        "import pandas as pd\n",
        "from dateutil import parser\n",
        "import matplotlib.pyplot as plt\n",
        "import numpy as np\n",
        "import seaborn as sns"
      ]
    },
    {
      "cell_type": "code",
      "execution_count": 3,
      "metadata": {
        "colab": {
          "base_uri": "https://localhost:8080/",
          "height": 1000
        },
        "colab_type": "code",
        "id": "NP5efe3P6yyh",
        "outputId": "fdaf99cf-179f-4572-f8da-a38c94ec5114"
      },
      "outputs": [
        {
          "data": {
            "text/html": [
              "<div>\n",
              "<style scoped>\n",
              "    .dataframe tbody tr th:only-of-type {\n",
              "        vertical-align: middle;\n",
              "    }\n",
              "\n",
              "    .dataframe tbody tr th {\n",
              "        vertical-align: top;\n",
              "    }\n",
              "\n",
              "    .dataframe thead th {\n",
              "        text-align: right;\n",
              "    }\n",
              "</style>\n",
              "<table border=\"1\" class=\"dataframe\">\n",
              "  <thead>\n",
              "    <tr style=\"text-align: right;\">\n",
              "      <th></th>\n",
              "      <th>user</th>\n",
              "      <th>first_open</th>\n",
              "      <th>dayofweek</th>\n",
              "      <th>hour</th>\n",
              "      <th>age</th>\n",
              "      <th>screen_list</th>\n",
              "      <th>numscreens</th>\n",
              "      <th>minigame</th>\n",
              "      <th>used_premium_feature</th>\n",
              "      <th>enrolled</th>\n",
              "      <th>enrolled_date</th>\n",
              "      <th>liked</th>\n",
              "    </tr>\n",
              "  </thead>\n",
              "  <tbody>\n",
              "    <tr>\n",
              "      <th>0</th>\n",
              "      <td>235136</td>\n",
              "      <td>2012-12-27 02:14:51.273</td>\n",
              "      <td>3</td>\n",
              "      <td>02:00:00</td>\n",
              "      <td>23</td>\n",
              "      <td>idscreen,joinscreen,Cycle,product_review,ScanP...</td>\n",
              "      <td>15</td>\n",
              "      <td>0</td>\n",
              "      <td>0</td>\n",
              "      <td>0</td>\n",
              "      <td>NaN</td>\n",
              "      <td>0</td>\n",
              "    </tr>\n",
              "    <tr>\n",
              "      <th>1</th>\n",
              "      <td>333588</td>\n",
              "      <td>2012-12-02 01:16:00.905</td>\n",
              "      <td>6</td>\n",
              "      <td>01:00:00</td>\n",
              "      <td>24</td>\n",
              "      <td>joinscreen,product_review,product_review2,Scan...</td>\n",
              "      <td>13</td>\n",
              "      <td>0</td>\n",
              "      <td>0</td>\n",
              "      <td>0</td>\n",
              "      <td>NaN</td>\n",
              "      <td>0</td>\n",
              "    </tr>\n",
              "    <tr>\n",
              "      <th>2</th>\n",
              "      <td>254414</td>\n",
              "      <td>2013-03-19 19:19:09.157</td>\n",
              "      <td>1</td>\n",
              "      <td>19:00:00</td>\n",
              "      <td>23</td>\n",
              "      <td>Splash,Cycle,Loan</td>\n",
              "      <td>3</td>\n",
              "      <td>0</td>\n",
              "      <td>1</td>\n",
              "      <td>0</td>\n",
              "      <td>NaN</td>\n",
              "      <td>1</td>\n",
              "    </tr>\n",
              "    <tr>\n",
              "      <th>3</th>\n",
              "      <td>234192</td>\n",
              "      <td>2013-07-05 16:08:46.354</td>\n",
              "      <td>4</td>\n",
              "      <td>16:00:00</td>\n",
              "      <td>28</td>\n",
              "      <td>product_review,Home,product_review,Loan3,Finan...</td>\n",
              "      <td>40</td>\n",
              "      <td>0</td>\n",
              "      <td>0</td>\n",
              "      <td>1</td>\n",
              "      <td>2013-07-05 16:11:49.513</td>\n",
              "      <td>0</td>\n",
              "    </tr>\n",
              "    <tr>\n",
              "      <th>4</th>\n",
              "      <td>51549</td>\n",
              "      <td>2013-02-26 18:50:48.661</td>\n",
              "      <td>1</td>\n",
              "      <td>18:00:00</td>\n",
              "      <td>31</td>\n",
              "      <td>idscreen,joinscreen,Cycle,Credit3Container,Sca...</td>\n",
              "      <td>32</td>\n",
              "      <td>0</td>\n",
              "      <td>0</td>\n",
              "      <td>1</td>\n",
              "      <td>2013-02-26 18:56:37.841</td>\n",
              "      <td>1</td>\n",
              "    </tr>\n",
              "    <tr>\n",
              "      <th>...</th>\n",
              "      <td>...</td>\n",
              "      <td>...</td>\n",
              "      <td>...</td>\n",
              "      <td>...</td>\n",
              "      <td>...</td>\n",
              "      <td>...</td>\n",
              "      <td>...</td>\n",
              "      <td>...</td>\n",
              "      <td>...</td>\n",
              "      <td>...</td>\n",
              "      <td>...</td>\n",
              "      <td>...</td>\n",
              "    </tr>\n",
              "    <tr>\n",
              "      <th>49995</th>\n",
              "      <td>222774</td>\n",
              "      <td>2013-05-09 13:46:17.871</td>\n",
              "      <td>3</td>\n",
              "      <td>13:00:00</td>\n",
              "      <td>32</td>\n",
              "      <td>Splash,Home,ScanPreview,VerifyPhone,VerifySSN,...</td>\n",
              "      <td>13</td>\n",
              "      <td>0</td>\n",
              "      <td>0</td>\n",
              "      <td>1</td>\n",
              "      <td>2013-05-09 13:47:52.875</td>\n",
              "      <td>0</td>\n",
              "    </tr>\n",
              "    <tr>\n",
              "      <th>49996</th>\n",
              "      <td>169179</td>\n",
              "      <td>2013-04-09 00:05:17.823</td>\n",
              "      <td>1</td>\n",
              "      <td>00:00:00</td>\n",
              "      <td>35</td>\n",
              "      <td>Cycle,Splash,Home,RewardsContainer</td>\n",
              "      <td>4</td>\n",
              "      <td>0</td>\n",
              "      <td>1</td>\n",
              "      <td>0</td>\n",
              "      <td>NaN</td>\n",
              "      <td>0</td>\n",
              "    </tr>\n",
              "    <tr>\n",
              "      <th>49997</th>\n",
              "      <td>302367</td>\n",
              "      <td>2013-02-20 22:41:51.165</td>\n",
              "      <td>2</td>\n",
              "      <td>22:00:00</td>\n",
              "      <td>39</td>\n",
              "      <td>joinscreen,product_review,product_review2,Scan...</td>\n",
              "      <td>25</td>\n",
              "      <td>0</td>\n",
              "      <td>0</td>\n",
              "      <td>0</td>\n",
              "      <td>NaN</td>\n",
              "      <td>0</td>\n",
              "    </tr>\n",
              "    <tr>\n",
              "      <th>49998</th>\n",
              "      <td>324905</td>\n",
              "      <td>2013-04-28 12:33:04.288</td>\n",
              "      <td>6</td>\n",
              "      <td>12:00:00</td>\n",
              "      <td>27</td>\n",
              "      <td>Cycle,Home,product_review,product_review,produ...</td>\n",
              "      <td>26</td>\n",
              "      <td>0</td>\n",
              "      <td>0</td>\n",
              "      <td>1</td>\n",
              "      <td>2013-04-28 12:35:38.709</td>\n",
              "      <td>0</td>\n",
              "    </tr>\n",
              "    <tr>\n",
              "      <th>49999</th>\n",
              "      <td>27047</td>\n",
              "      <td>2012-12-14 01:22:44.638</td>\n",
              "      <td>4</td>\n",
              "      <td>01:00:00</td>\n",
              "      <td>25</td>\n",
              "      <td>product_review,ScanPreview,VerifyDateOfBirth,V...</td>\n",
              "      <td>26</td>\n",
              "      <td>0</td>\n",
              "      <td>0</td>\n",
              "      <td>0</td>\n",
              "      <td>NaN</td>\n",
              "      <td>1</td>\n",
              "    </tr>\n",
              "  </tbody>\n",
              "</table>\n",
              "<p>50000 rows × 12 columns</p>\n",
              "</div>"
            ],
            "text/plain": [
              "         user               first_open  dayofweek       hour  age  \\\n",
              "0      235136  2012-12-27 02:14:51.273          3   02:00:00   23   \n",
              "1      333588  2012-12-02 01:16:00.905          6   01:00:00   24   \n",
              "2      254414  2013-03-19 19:19:09.157          1   19:00:00   23   \n",
              "3      234192  2013-07-05 16:08:46.354          4   16:00:00   28   \n",
              "4       51549  2013-02-26 18:50:48.661          1   18:00:00   31   \n",
              "...       ...                      ...        ...        ...  ...   \n",
              "49995  222774  2013-05-09 13:46:17.871          3   13:00:00   32   \n",
              "49996  169179  2013-04-09 00:05:17.823          1   00:00:00   35   \n",
              "49997  302367  2013-02-20 22:41:51.165          2   22:00:00   39   \n",
              "49998  324905  2013-04-28 12:33:04.288          6   12:00:00   27   \n",
              "49999   27047  2012-12-14 01:22:44.638          4   01:00:00   25   \n",
              "\n",
              "                                             screen_list  numscreens  \\\n",
              "0      idscreen,joinscreen,Cycle,product_review,ScanP...          15   \n",
              "1      joinscreen,product_review,product_review2,Scan...          13   \n",
              "2                                      Splash,Cycle,Loan           3   \n",
              "3      product_review,Home,product_review,Loan3,Finan...          40   \n",
              "4      idscreen,joinscreen,Cycle,Credit3Container,Sca...          32   \n",
              "...                                                  ...         ...   \n",
              "49995  Splash,Home,ScanPreview,VerifyPhone,VerifySSN,...          13   \n",
              "49996                 Cycle,Splash,Home,RewardsContainer           4   \n",
              "49997  joinscreen,product_review,product_review2,Scan...          25   \n",
              "49998  Cycle,Home,product_review,product_review,produ...          26   \n",
              "49999  product_review,ScanPreview,VerifyDateOfBirth,V...          26   \n",
              "\n",
              "       minigame  used_premium_feature  enrolled            enrolled_date  \\\n",
              "0             0                     0         0                      NaN   \n",
              "1             0                     0         0                      NaN   \n",
              "2             0                     1         0                      NaN   \n",
              "3             0                     0         1  2013-07-05 16:11:49.513   \n",
              "4             0                     0         1  2013-02-26 18:56:37.841   \n",
              "...         ...                   ...       ...                      ...   \n",
              "49995         0                     0         1  2013-05-09 13:47:52.875   \n",
              "49996         0                     1         0                      NaN   \n",
              "49997         0                     0         0                      NaN   \n",
              "49998         0                     0         1  2013-04-28 12:35:38.709   \n",
              "49999         0                     0         0                      NaN   \n",
              "\n",
              "       liked  \n",
              "0          0  \n",
              "1          0  \n",
              "2          1  \n",
              "3          0  \n",
              "4          1  \n",
              "...      ...  \n",
              "49995      0  \n",
              "49996      0  \n",
              "49997      0  \n",
              "49998      0  \n",
              "49999      1  \n",
              "\n",
              "[50000 rows x 12 columns]"
            ]
          },
          "execution_count": 3,
          "metadata": {},
          "output_type": "execute_result"
        }
      ],
      "source": [
        "dataset = pd.read_csv(\"Data/appdata.csv\")\n",
        "dataset"
      ]
    },
    {
      "cell_type": "code",
      "execution_count": 6,
      "metadata": {},
      "outputs": [
        {
          "data": {
            "text/plain": [
              "user                        0\n",
              "first_open                  0\n",
              "dayofweek                   0\n",
              "hour                        0\n",
              "age                         0\n",
              "screen_list                 0\n",
              "numscreens                  0\n",
              "minigame                    0\n",
              "used_premium_feature        0\n",
              "enrolled                    0\n",
              "enrolled_date           18926\n",
              "liked                       0\n",
              "dtype: int64"
            ]
          },
          "execution_count": 6,
          "metadata": {},
          "output_type": "execute_result"
        }
      ],
      "source": [
        "dataset.isnull().sum() # take summation of null values"
      ]
    },
    {
      "cell_type": "markdown",
      "metadata": {
        "colab_type": "text",
        "id": "xgxbPhmzPp-b"
      },
      "source": [
        "#### Exploratory Data Analysis(EDA)"
      ]
    },
    {
      "cell_type": "code",
      "execution_count": 4,
      "metadata": {
        "colab": {
          "base_uri": "https://localhost:8080/",
          "height": 294
        },
        "colab_type": "code",
        "id": "sMoX59US7Xyk",
        "outputId": "85a8ada4-c33f-43c7-c755-d3fcd2ab498f"
      },
      "outputs": [
        {
          "data": {
            "image/png": "[encoded data removed]",
            "text/plain": [
              "<Figure size 640x480 with 7 Axes>"
            ]
          },
          "metadata": {},
          "output_type": "display_data"
        }
      ],
      "source": [
        "dataset.head(10) # Viewing the Data\n",
        "dataset.describe() # Distribution of Numerical Variables\n",
        "\n",
        "# First set of Feature cleaning\n",
        "dataset[\"hour\"] = dataset.hour.str.slice(1, 3).astype(int)\n",
        "\n",
        "### Plotting\n",
        "dataset2 = dataset.copy().drop(columns = ['user', 'screen_list', 'enrolled_date',\n",
        "                                           'first_open', 'enrolled'])\n",
        "dataset2.head()\n",
        "\n",
        "## Histograms\n",
        "plt.suptitle('Histograms of Numerical Columns', fontsize=20)\n",
        "for i in range(1, dataset2.shape[1] + 1):\n",
        "    plt.subplot(3, 3, i)\n",
        "    f = plt.gca()\n",
        "#    f.axes.get_yaxis().set_visible(False)\n",
        "    f.set_title(dataset2.columns.values[i - 1])\n",
        "\n",
        "    vals = np.size(dataset2.iloc[:, i - 1].unique())\n",
        "    \n",
        "    plt.hist(dataset2.iloc[:, i - 1], bins=vals, color='#3F5D7D')\n",
        "plt.tight_layout(rect=[0, 0.03, 1, 0.95])\n",
        "#plt.savefig('app_data_hist.jpg')\n"
      ]
    },
    {
      "cell_type": "code",
      "execution_count": 0,
      "metadata": {
        "colab": {
          "base_uri": "https://localhost:8080/",
          "height": 732
        },
        "colab_type": "code",
        "id": "rPmE_ZhE7ebM",
        "outputId": "acffa56a-6cff-4691-e848-462a7e743970"
      },
      "outputs": [
        {
          "data": {
            "image/png": "[encoded data removed]",
            "text/plain": [
              "<Figure size 1440x720 with 1 Axes>"
            ]
          },
          "metadata": {
            "tags": []
          },
          "output_type": "display_data"
        }
      ],
      "source": [
        "## Correlation with Response Variable\n",
        "dataset2.corrwith(dataset.enrolled).plot.bar(figsize=(20,10),\n",
        "                  title = 'Correlation with Reposnse variable',\n",
        "                  fontsize = 15, rot = 45,\n",
        "                  grid = True)\n",
        "\n",
        "\n",
        "## Correlation Matrix\n",
        "sns.set(style=\"white\", font_scale=2)\n",
        "\n",
        "# Compute the correlation matrix\n",
        "corr = dataset2.corr()\n",
        "\n",
        "# Generate a mask for the upper triangle\n",
        "mask = np.zeros_like(corr, dtype=np.bool)\n",
        "mask[np.triu_indices_from(mask)] = True"
      ]
    },
    {
      "cell_type": "code",
      "execution_count": 0,
      "metadata": {
        "colab": {
          "base_uri": "https://localhost:8080/",
          "height": 1000
        },
        "colab_type": "code",
        "id": "j9gJ6Oj47vgG",
        "outputId": "65abddef-61c7-4fa3-d391-17f62989163f"
      },
      "outputs": [
        {
          "data": {
            "text/plain": [
              "<matplotlib.axes._subplots.AxesSubplot at 0x7f64ce6f4940>"
            ]
          },
          "execution_count": 8,
          "metadata": {
            "tags": []
          },
          "output_type": "execute_result"
        },
        {
          "data": {
            "image/png": "[encoded data removed]",
            "text/plain": [
              "<Figure size 1296x1080 with 2 Axes>"
            ]
          },
          "metadata": {
            "tags": []
          },
          "output_type": "display_data"
        }
      ],
      "source": [
        "#Correlation Matrix\n",
        "# Set up the matplotlib figure\n",
        "f, ax = plt.subplots(figsize=(18, 15))\n",
        "f.suptitle(\"Correlation Matrix\", fontsize = 40)\n",
        "# Generate a custom diverging colormap\n",
        "cmap = sns.diverging_palette(220, 10, as_cmap=True)\n",
        "# Draw the heatmap with the mask and correct aspect ratio\n",
        "sns.heatmap(corr, mask=mask, cmap=cmap, vmax=.3, center=0,\n",
        "            square=True, linewidths=.5, cbar_kws={\"shrink\": .5})"
      ]
    },
    {
      "cell_type": "markdown",
      "metadata": {
        "colab_type": "text",
        "id": "LAZCn0b9P87g"
      },
      "source": [
        "#### Feature Engineering ####"
      ]
    },
    {
      "cell_type": "code",
      "execution_count": 0,
      "metadata": {
        "colab": {
          "base_uri": "https://localhost:8080/",
          "height": 589
        },
        "colab_type": "code",
        "id": "Q4SJZpxP7lvv",
        "outputId": "4b053f04-7ba9-47be-b6c8-281d404b2700"
      },
      "outputs": [
        {
          "data": {
            "image/png": "[encoded data removed]",
            "text/plain": [
              "<Figure size 432x288 with 1 Axes>"
            ]
          },
          "metadata": {
            "tags": []
          },
          "output_type": "display_data"
        },
        {
          "data": {
            "image/png": "[encoded data removed]",
            "text/plain": [
              "<Figure size 432x288 with 1 Axes>"
            ]
          },
          "metadata": {
            "tags": []
          },
          "output_type": "display_data"
        }
      ],
      "source": [
        "# Formatting Date Columns\n",
        "dataset.dtypes\n",
        "dataset[\"first_open\"] = [parser.parse(row_date) for row_date in dataset[\"first_open\"]]\n",
        "dataset[\"enrolled_date\"] = [parser.parse(row_date) if isinstance(row_date, str) else row_date for row_date in dataset[\"enrolled_date\"]]\n",
        "dataset.dtypes\n",
        "\n",
        "# Selecting Time For Response\n",
        "dataset[\"difference\"] = (dataset.enrolled_date-dataset.first_open).astype('timedelta64[h]')\n",
        "response_hist = plt.hist(dataset[\"difference\"].dropna(), color='#3F5D7D')\n",
        "plt.title('Distribution of Time-Since-Screen-Reached')\n",
        "plt.show()\n",
        "\n",
        "plt.hist(dataset[\"difference\"].dropna(), color='#3F5D7D', range = [0, 100])\n",
        "plt.title('Distribution of Time-Since-Screen-Reached')\n",
        "plt.show()\n",
        "\n",
        "dataset.loc[dataset.difference > 48, 'enrolled'] = 0\n",
        "dataset = dataset.drop(columns=['enrolled_date', 'difference', 'first_open'])"
      ]
    },
    {
      "cell_type": "code",
      "execution_count": 0,
      "metadata": {
        "colab": {},
        "colab_type": "code",
        "id": "VGy2afnq8YYJ"
      },
      "outputs": [],
      "source": [
        "## Formatting the screen_list Field\n",
        "\n",
        "# Load Top Screens\n",
        "top_screens = pd.read_csv(\"/content/drive/My Drive/app/top_screens.csv\").top_screens.values\n",
        "top_screens\n",
        "\n",
        "# Mapping Screens to Fields\n",
        "dataset[\"screen_list\"] = dataset.screen_list.astype(str) + ','\n",
        "\n",
        "for sc in top_screens:\n",
        "    dataset[sc] = dataset.screen_list.str.contains(sc).astype(int)\n",
        "    dataset['screen_list'] = dataset.screen_list.str.replace(sc+\",\", \"\")\n",
        "\n",
        "dataset['Other'] = dataset.screen_list.str.count(\",\")\n",
        "dataset = dataset.drop(columns=['screen_list'])\n",
        "\n",
        "# Funnels\n",
        "savings_screens = [\"Saving1\",\n",
        "                    \"Saving2\",\n",
        "                    \"Saving2Amount\",\n",
        "                    \"Saving4\",\n",
        "                    \"Saving5\",\n",
        "                    \"Saving6\",\n",
        "                    \"Saving7\",\n",
        "                    \"Saving8\",\n",
        "                    \"Saving9\",\n",
        "                    \"Saving10\"]\n",
        "dataset[\"SavingCount\"] = dataset[savings_screens].sum(axis=1)\n",
        "dataset = dataset.drop(columns=savings_screens)\n",
        "\n",
        "cm_screens = [\"Credit1\",\n",
        "               \"Credit2\",\n",
        "               \"Credit3\",\n",
        "               \"Credit3Container\",\n",
        "               \"Credit3Dashboard\"]\n",
        "dataset[\"CMCount\"] = dataset[cm_screens].sum(axis=1)\n",
        "dataset = dataset.drop(columns=cm_screens)\n",
        "\n",
        "cc_screens = [\"CC1\",\n",
        "                \"CC1Category\",\n",
        "                \"CC3\"]\n",
        "dataset[\"CCCount\"] = dataset[cc_screens].sum(axis=1)\n",
        "dataset = dataset.drop(columns=cc_screens)\n",
        "\n",
        "loan_screens = [\"Loan\",\n",
        "               \"Loan2\",\n",
        "               \"Loan3\",\n",
        "               \"Loan4\"]\n",
        "dataset[\"LoansCount\"] = dataset[loan_screens].sum(axis=1)\n",
        "dataset = dataset.drop(columns=loan_screens)\n",
        "\n",
        "#### Saving Results ####\n",
        "dataset.head()\n",
        "dataset.describe()\n",
        "dataset.columns\n",
        "dataset.to_csv('new_appdata10.csv', index = False)"
      ]
    },
    {
      "cell_type": "code",
      "execution_count": 0,
      "metadata": {
        "colab": {},
        "colab_type": "code",
        "id": "XnLL4dZo81f7"
      },
      "outputs": [],
      "source": [
        "#### Data Pre-Processing ####\n",
        "\n",
        "# Splitting Independent and Response Variables\n",
        "response = dataset[\"enrolled\"]\n",
        "dataset = dataset.drop(columns=\"enrolled\")\n",
        "\n",
        "# Splitting the dataset into the Training set and Test set\n",
        "from sklearn.model_selection import train_test_split\n",
        "X_train, X_test, y_train, y_test = train_test_split(dataset, response,\n",
        "                                                    test_size = 0.2,\n",
        "                                                    random_state = 0)\n",
        "\n"
      ]
    },
    {
      "cell_type": "code",
      "execution_count": 0,
      "metadata": {
        "colab": {},
        "colab_type": "code",
        "id": "gqbGSE0JPJRm"
      },
      "outputs": [],
      "source": [
        "#Balancing the Training Set\n",
        "import random\n",
        "y_train.value_counts()\n",
        "\n",
        "pos_index = y_train[y_train.values == 1].index\n",
        "neg_index = y_train[y_train.values == 0].index\n",
        "\n",
        "if len(pos_index) > len(neg_index):\n",
        "   higher = pos_index\n",
        "   lower = neg_index\n",
        "else:\n",
        "   higher = neg_index\n",
        "   lower = pos_index\n",
        "\n",
        "random.seed(0)\n",
        "higher = np.random.choice(higher, size=len(lower))\n",
        "lower = np.asarray(lower)\n",
        "new_indexes = np.concatenate((lower, higher))\n",
        "\n"
      ]
    },
    {
      "cell_type": "code",
      "execution_count": 0,
      "metadata": {
        "colab": {},
        "colab_type": "code",
        "id": "i2iAcXw-PTC-"
      },
      "outputs": [],
      "source": [
        "X_train = X_train.loc[new_indexes,]\n",
        "y_train = y_train[new_indexes]"
      ]
    },
    {
      "cell_type": "code",
      "execution_count": 0,
      "metadata": {
        "colab": {},
        "colab_type": "code",
        "id": "dq1ooPOE9g-A"
      },
      "outputs": [],
      "source": [
        "# Removing Identifiers\n",
        "train_identity = X_train['user']\n",
        "X_train = X_train.drop(columns = ['user'])\n",
        "test_identity = X_test['user']\n",
        "X_test = X_test.drop(columns = ['user'])"
      ]
    },
    {
      "cell_type": "code",
      "execution_count": 0,
      "metadata": {
        "colab": {},
        "colab_type": "code",
        "id": "7TdbLLba9ji6"
      },
      "outputs": [],
      "source": [
        "# Feature Scaling\n",
        "from sklearn.preprocessing import StandardScaler\n",
        "sc_X = StandardScaler()\n",
        "X_train2 = pd.DataFrame(sc_X.fit_transform(X_train))\n",
        "X_test2 = pd.DataFrame(sc_X.transform(X_test))\n",
        "X_train2.columns = X_train.columns.values\n",
        "X_test2.columns = X_test.columns.values\n",
        "X_train2.index = X_train.index.values\n",
        "X_test2.index = X_test.index.values\n",
        "X_train = X_train2\n",
        "X_test = X_test2"
      ]
    },
    {
      "cell_type": "code",
      "execution_count": 0,
      "metadata": {
        "colab": {
          "base_uri": "https://localhost:8080/",
          "height": 136
        },
        "colab_type": "code",
        "id": "R45S1WEF9MZX",
        "outputId": "66b11c3a-22ff-4027-d6a7-61960714dc86"
      },
      "outputs": [
        {
          "name": "stderr",
          "output_type": "stream",
          "text": [
            "/usr/local/lib/python3.6/dist-packages/sklearn/linear_model/logistic.py:432: FutureWarning: Default solver will be changed to 'lbfgs' in 0.22. Specify a solver to silence this warning.\n",
            "  FutureWarning)\n"
          ]
        },
        {
          "data": {
            "text/plain": [
              "LogisticRegression(C=1.0, class_weight=None, dual=False, fit_intercept=True,\n",
              "                   intercept_scaling=1, l1_ratio=None, max_iter=100,\n",
              "                   multi_class='warn', n_jobs=None, penalty='l1',\n",
              "                   random_state=0, solver='warn', tol=0.0001, verbose=0,\n",
              "                   warm_start=False)"
            ]
          },
          "execution_count": 16,
          "metadata": {
            "tags": []
          },
          "output_type": "execute_result"
        }
      ],
      "source": [
        "#### Model Building ####\n",
        "# Fitting Model to the Training Set\n",
        "from sklearn.linear_model import LogisticRegression\n",
        "classifier = LogisticRegression(random_state = 0, penalty = 'l1')\n",
        "classifier.fit(X_train, y_train)"
      ]
    },
    {
      "cell_type": "code",
      "execution_count": 0,
      "metadata": {
        "colab": {
          "base_uri": "https://localhost:8080/",
          "height": 34
        },
        "colab_type": "code",
        "id": "Ja4n15t_9QPZ",
        "outputId": "541f9680-9a90-4329-988f-0e6a5fbc41fe"
      },
      "outputs": [
        {
          "data": {
            "text/plain": [
              "array([1, 1, 0, ..., 0, 1, 1])"
            ]
          },
          "execution_count": 17,
          "metadata": {
            "tags": []
          },
          "output_type": "execute_result"
        }
      ],
      "source": [
        "# Predicting Test Set\n",
        "y_pred = classifier.predict(X_test)\n",
        "y_pred"
      ]
    },
    {
      "cell_type": "code",
      "execution_count": 0,
      "metadata": {
        "colab": {
          "base_uri": "https://localhost:8080/",
          "height": 119
        },
        "colab_type": "code",
        "id": "w2QbXdFh9Thv",
        "outputId": "6e5fdebe-0608-4632-f064-7630319dadec"
      },
      "outputs": [
        {
          "name": "stdout",
          "output_type": "stream",
          "text": [
            "[[3884 1188]\n",
            " [1131 3797]]\n",
            "0.7681\n",
            "0.7616850551654964\n",
            "0.7704951298701299\n",
            "0.766064763441945\n"
          ]
        }
      ],
      "source": [
        "# Evaluating Results\n",
        "from sklearn.metrics import confusion_matrix, accuracy_score, f1_score, precision_score, recall_score\n",
        "cm = confusion_matrix(y_test, y_pred)\n",
        "print(cm)\n",
        "print(accuracy_score(y_test, y_pred))\n",
        "print(precision_score(y_test, y_pred)) # tp / (tp + fp)\n",
        "print(recall_score(y_test, y_pred)) # tp / (tp + fn)\n",
        "print(f1_score(y_test, y_pred))"
      ]
    },
    {
      "cell_type": "code",
      "execution_count": 0,
      "metadata": {
        "colab": {
          "base_uri": "https://localhost:8080/",
          "height": 459
        },
        "colab_type": "code",
        "id": "Rtg3D5ndQOFP",
        "outputId": "84eac30c-4934-4c95-bc5e-f0edc4e5bcb9"
      },
      "outputs": [
        {
          "name": "stdout",
          "output_type": "stream",
          "text": [
            "Test Data Accuracy: 0.7681\n"
          ]
        },
        {
          "data": {
            "image/png": "[encoded data removed]",
            "text/plain": [
              "<Figure size 720x504 with 2 Axes>"
            ]
          },
          "metadata": {
            "tags": []
          },
          "output_type": "display_data"
        }
      ],
      "source": [
        "df_cm = pd.DataFrame(cm, index = (0, 1), columns = (0, 1))\n",
        "plt.figure(figsize = (10,7))\n",
        "sns.set(font_scale=1.4)\n",
        "sns.heatmap(df_cm, annot=True, fmt='g')\n",
        "print(\"Test Data Accuracy: %0.4f\" % accuracy_score(y_test, y_pred))"
      ]
    },
    {
      "cell_type": "code",
      "execution_count": 0,
      "metadata": {
        "colab": {
          "base_uri": "https://localhost:8080/",
          "height": 374
        },
        "colab_type": "code",
        "id": "dUnKWpPO9qvK",
        "outputId": "2e2f7b44-e175-49cb-d26b-76b9fc2ebe5f"
      },
      "outputs": [
        {
          "name": "stderr",
          "output_type": "stream",
          "text": [
            "/usr/local/lib/python3.6/dist-packages/sklearn/linear_model/logistic.py:432: FutureWarning: Default solver will be changed to 'lbfgs' in 0.22. Specify a solver to silence this warning.\n",
            "  FutureWarning)\n",
            "/usr/local/lib/python3.6/dist-packages/sklearn/linear_model/logistic.py:432: FutureWarning: Default solver will be changed to 'lbfgs' in 0.22. Specify a solver to silence this warning.\n",
            "  FutureWarning)\n",
            "/usr/local/lib/python3.6/dist-packages/sklearn/linear_model/logistic.py:432: FutureWarning: Default solver will be changed to 'lbfgs' in 0.22. Specify a solver to silence this warning.\n",
            "  FutureWarning)\n",
            "/usr/local/lib/python3.6/dist-packages/sklearn/linear_model/logistic.py:432: FutureWarning: Default solver will be changed to 'lbfgs' in 0.22. Specify a solver to silence this warning.\n",
            "  FutureWarning)\n",
            "/usr/local/lib/python3.6/dist-packages/sklearn/linear_model/logistic.py:432: FutureWarning: Default solver will be changed to 'lbfgs' in 0.22. Specify a solver to silence this warning.\n",
            "  FutureWarning)\n",
            "/usr/local/lib/python3.6/dist-packages/sklearn/linear_model/logistic.py:432: FutureWarning: Default solver will be changed to 'lbfgs' in 0.22. Specify a solver to silence this warning.\n",
            "  FutureWarning)\n",
            "/usr/local/lib/python3.6/dist-packages/sklearn/linear_model/logistic.py:432: FutureWarning: Default solver will be changed to 'lbfgs' in 0.22. Specify a solver to silence this warning.\n",
            "  FutureWarning)\n",
            "/usr/local/lib/python3.6/dist-packages/sklearn/linear_model/logistic.py:432: FutureWarning: Default solver will be changed to 'lbfgs' in 0.22. Specify a solver to silence this warning.\n",
            "  FutureWarning)\n",
            "/usr/local/lib/python3.6/dist-packages/sklearn/linear_model/logistic.py:432: FutureWarning: Default solver will be changed to 'lbfgs' in 0.22. Specify a solver to silence this warning.\n",
            "  FutureWarning)\n",
            "/usr/local/lib/python3.6/dist-packages/sklearn/linear_model/logistic.py:432: FutureWarning: Default solver will be changed to 'lbfgs' in 0.22. Specify a solver to silence this warning.\n",
            "  FutureWarning)\n"
          ]
        },
        {
          "name": "stdout",
          "output_type": "stream",
          "text": [
            "SVM Accuracy: 0.767 (+/- 0.015)\n"
          ]
        }
      ],
      "source": [
        "# Applying k-Fold Cross Validation\n",
        "from sklearn.model_selection import cross_val_score\n",
        "accuracies = cross_val_score(estimator = classifier, X = X_train, y = y_train, cv = 10)\n",
        "print(\"SVM Accuracy: %0.3f (+/- %0.3f)\" % (accuracies.mean(), accuracies.std() * 2))"
      ]
    },
    {
      "cell_type": "code",
      "execution_count": 0,
      "metadata": {
        "colab": {
          "base_uri": "https://localhost:8080/",
          "height": 1000
        },
        "colab_type": "code",
        "id": "8N69mUCA9ver",
        "outputId": "cb676f01-1979-4199-e4e9-30514c7773ac"
      },
      "outputs": [
        {
          "data": {
            "text/html": [
              "<div>\n",
              "<style scoped>\n",
              "    .dataframe tbody tr th:only-of-type {\n",
              "        vertical-align: middle;\n",
              "    }\n",
              "\n",
              "    .dataframe tbody tr th {\n",
              "        vertical-align: top;\n",
              "    }\n",
              "\n",
              "    .dataframe thead th {\n",
              "        text-align: right;\n",
              "    }\n",
              "</style>\n",
              "<table border=\"1\" class=\"dataframe\">\n",
              "  <thead>\n",
              "    <tr style=\"text-align: right;\">\n",
              "      <th></th>\n",
              "      <th>features</th>\n",
              "      <th>coef</th>\n",
              "    </tr>\n",
              "  </thead>\n",
              "  <tbody>\n",
              "    <tr>\n",
              "      <th>0</th>\n",
              "      <td>dayofweek</td>\n",
              "      <td>0.025797</td>\n",
              "    </tr>\n",
              "    <tr>\n",
              "      <th>1</th>\n",
              "      <td>hour</td>\n",
              "      <td>0.003928</td>\n",
              "    </tr>\n",
              "    <tr>\n",
              "      <th>2</th>\n",
              "      <td>age</td>\n",
              "      <td>-0.147023</td>\n",
              "    </tr>\n",
              "    <tr>\n",
              "      <th>3</th>\n",
              "      <td>numscreens</td>\n",
              "      <td>-0.113229</td>\n",
              "    </tr>\n",
              "    <tr>\n",
              "      <th>4</th>\n",
              "      <td>minigame</td>\n",
              "      <td>-0.023087</td>\n",
              "    </tr>\n",
              "    <tr>\n",
              "      <th>5</th>\n",
              "      <td>used_premium_feature</td>\n",
              "      <td>-0.079476</td>\n",
              "    </tr>\n",
              "    <tr>\n",
              "      <th>6</th>\n",
              "      <td>liked</td>\n",
              "      <td>0.010925</td>\n",
              "    </tr>\n",
              "    <tr>\n",
              "      <th>7</th>\n",
              "      <td>location</td>\n",
              "      <td>-0.046248</td>\n",
              "    </tr>\n",
              "    <tr>\n",
              "      <th>8</th>\n",
              "      <td>Institutions</td>\n",
              "      <td>-0.064583</td>\n",
              "    </tr>\n",
              "    <tr>\n",
              "      <th>9</th>\n",
              "      <td>VerifyPhone</td>\n",
              "      <td>0.653918</td>\n",
              "    </tr>\n",
              "    <tr>\n",
              "      <th>10</th>\n",
              "      <td>BankVerification</td>\n",
              "      <td>0.047534</td>\n",
              "    </tr>\n",
              "    <tr>\n",
              "      <th>11</th>\n",
              "      <td>VerifyDateOfBirth</td>\n",
              "      <td>0.131609</td>\n",
              "    </tr>\n",
              "    <tr>\n",
              "      <th>12</th>\n",
              "      <td>ProfilePage</td>\n",
              "      <td>-0.109252</td>\n",
              "    </tr>\n",
              "    <tr>\n",
              "      <th>13</th>\n",
              "      <td>VerifyCountry</td>\n",
              "      <td>-0.336723</td>\n",
              "    </tr>\n",
              "    <tr>\n",
              "      <th>14</th>\n",
              "      <td>Cycle</td>\n",
              "      <td>0.005059</td>\n",
              "    </tr>\n",
              "    <tr>\n",
              "      <th>15</th>\n",
              "      <td>idscreen</td>\n",
              "      <td>0.157838</td>\n",
              "    </tr>\n",
              "    <tr>\n",
              "      <th>16</th>\n",
              "      <td>Splash</td>\n",
              "      <td>0.019668</td>\n",
              "    </tr>\n",
              "    <tr>\n",
              "      <th>17</th>\n",
              "      <td>RewardsContainer</td>\n",
              "      <td>0.009399</td>\n",
              "    </tr>\n",
              "    <tr>\n",
              "      <th>18</th>\n",
              "      <td>EditProfile</td>\n",
              "      <td>0.020514</td>\n",
              "    </tr>\n",
              "    <tr>\n",
              "      <th>19</th>\n",
              "      <td>Finances</td>\n",
              "      <td>0.004377</td>\n",
              "    </tr>\n",
              "    <tr>\n",
              "      <th>20</th>\n",
              "      <td>Alerts</td>\n",
              "      <td>-0.210563</td>\n",
              "    </tr>\n",
              "    <tr>\n",
              "      <th>21</th>\n",
              "      <td>Leaderboard</td>\n",
              "      <td>-0.017373</td>\n",
              "    </tr>\n",
              "    <tr>\n",
              "      <th>22</th>\n",
              "      <td>VerifyMobile</td>\n",
              "      <td>0.297362</td>\n",
              "    </tr>\n",
              "    <tr>\n",
              "      <th>23</th>\n",
              "      <td>VerifyHousing</td>\n",
              "      <td>0.077405</td>\n",
              "    </tr>\n",
              "    <tr>\n",
              "      <th>24</th>\n",
              "      <td>RewardDetail</td>\n",
              "      <td>-0.020065</td>\n",
              "    </tr>\n",
              "    <tr>\n",
              "      <th>25</th>\n",
              "      <td>VerifyHousingAmount</td>\n",
              "      <td>0.003732</td>\n",
              "    </tr>\n",
              "    <tr>\n",
              "      <th>26</th>\n",
              "      <td>ProfileMaritalStatus</td>\n",
              "      <td>-0.053123</td>\n",
              "    </tr>\n",
              "    <tr>\n",
              "      <th>27</th>\n",
              "      <td>ProfileChildren</td>\n",
              "      <td>0.000000</td>\n",
              "    </tr>\n",
              "    <tr>\n",
              "      <th>28</th>\n",
              "      <td>ProfileEducation</td>\n",
              "      <td>0.001818</td>\n",
              "    </tr>\n",
              "    <tr>\n",
              "      <th>29</th>\n",
              "      <td>ProfileEducationMajor</td>\n",
              "      <td>-0.002770</td>\n",
              "    </tr>\n",
              "    <tr>\n",
              "      <th>30</th>\n",
              "      <td>Rewards</td>\n",
              "      <td>0.051595</td>\n",
              "    </tr>\n",
              "    <tr>\n",
              "      <th>31</th>\n",
              "      <td>AccountView</td>\n",
              "      <td>-0.043594</td>\n",
              "    </tr>\n",
              "    <tr>\n",
              "      <th>32</th>\n",
              "      <td>VerifyAnnualIncome</td>\n",
              "      <td>0.088815</td>\n",
              "    </tr>\n",
              "    <tr>\n",
              "      <th>33</th>\n",
              "      <td>VerifyIncomeType</td>\n",
              "      <td>-0.095838</td>\n",
              "    </tr>\n",
              "    <tr>\n",
              "      <th>34</th>\n",
              "      <td>ProfileJobTitle</td>\n",
              "      <td>0.019159</td>\n",
              "    </tr>\n",
              "    <tr>\n",
              "      <th>35</th>\n",
              "      <td>Login</td>\n",
              "      <td>-0.099749</td>\n",
              "    </tr>\n",
              "    <tr>\n",
              "      <th>36</th>\n",
              "      <td>ProfileEmploymentLength</td>\n",
              "      <td>-0.052266</td>\n",
              "    </tr>\n",
              "    <tr>\n",
              "      <th>37</th>\n",
              "      <td>WebView</td>\n",
              "      <td>-0.066353</td>\n",
              "    </tr>\n",
              "    <tr>\n",
              "      <th>38</th>\n",
              "      <td>SecurityModal</td>\n",
              "      <td>0.008441</td>\n",
              "    </tr>\n",
              "    <tr>\n",
              "      <th>39</th>\n",
              "      <td>ResendToken</td>\n",
              "      <td>-0.068081</td>\n",
              "    </tr>\n",
              "    <tr>\n",
              "      <th>40</th>\n",
              "      <td>TransactionList</td>\n",
              "      <td>-0.039101</td>\n",
              "    </tr>\n",
              "    <tr>\n",
              "      <th>41</th>\n",
              "      <td>NetworkFailure</td>\n",
              "      <td>0.008708</td>\n",
              "    </tr>\n",
              "    <tr>\n",
              "      <th>42</th>\n",
              "      <td>ListPicker</td>\n",
              "      <td>-0.047497</td>\n",
              "    </tr>\n",
              "    <tr>\n",
              "      <th>43</th>\n",
              "      <td>Other</td>\n",
              "      <td>0.974047</td>\n",
              "    </tr>\n",
              "    <tr>\n",
              "      <th>44</th>\n",
              "      <td>SavingCount</td>\n",
              "      <td>-0.021120</td>\n",
              "    </tr>\n",
              "    <tr>\n",
              "      <th>45</th>\n",
              "      <td>CMCount</td>\n",
              "      <td>0.583406</td>\n",
              "    </tr>\n",
              "    <tr>\n",
              "      <th>46</th>\n",
              "      <td>CCCount</td>\n",
              "      <td>0.033244</td>\n",
              "    </tr>\n",
              "    <tr>\n",
              "      <th>47</th>\n",
              "      <td>LoansCount</td>\n",
              "      <td>-0.489276</td>\n",
              "    </tr>\n",
              "  </tbody>\n",
              "</table>\n",
              "</div>"
            ],
            "text/plain": [
              "                   features      coef\n",
              "0                 dayofweek  0.025797\n",
              "1                      hour  0.003928\n",
              "2                       age -0.147023\n",
              "3                numscreens -0.113229\n",
              "4                  minigame -0.023087\n",
              "5      used_premium_feature -0.079476\n",
              "6                     liked  0.010925\n",
              "7                  location -0.046248\n",
              "8              Institutions -0.064583\n",
              "9               VerifyPhone  0.653918\n",
              "10         BankVerification  0.047534\n",
              "11        VerifyDateOfBirth  0.131609\n",
              "12              ProfilePage -0.109252\n",
              "13            VerifyCountry -0.336723\n",
              "14                    Cycle  0.005059\n",
              "15                 idscreen  0.157838\n",
              "16                   Splash  0.019668\n",
              "17         RewardsContainer  0.009399\n",
              "18              EditProfile  0.020514\n",
              "19                 Finances  0.004377\n",
              "20                   Alerts -0.210563\n",
              "21              Leaderboard -0.017373\n",
              "22             VerifyMobile  0.297362\n",
              "23            VerifyHousing  0.077405\n",
              "24             RewardDetail -0.020065\n",
              "25      VerifyHousingAmount  0.003732\n",
              "26     ProfileMaritalStatus -0.053123\n",
              "27         ProfileChildren   0.000000\n",
              "28         ProfileEducation  0.001818\n",
              "29    ProfileEducationMajor -0.002770\n",
              "30                  Rewards  0.051595\n",
              "31              AccountView -0.043594\n",
              "32       VerifyAnnualIncome  0.088815\n",
              "33         VerifyIncomeType -0.095838\n",
              "34          ProfileJobTitle  0.019159\n",
              "35                    Login -0.099749\n",
              "36  ProfileEmploymentLength -0.052266\n",
              "37                  WebView -0.066353\n",
              "38            SecurityModal  0.008441\n",
              "39              ResendToken -0.068081\n",
              "40          TransactionList -0.039101\n",
              "41           NetworkFailure  0.008708\n",
              "42               ListPicker -0.047497\n",
              "43                    Other  0.974047\n",
              "44              SavingCount -0.021120\n",
              "45                  CMCount  0.583406\n",
              "46                  CCCount  0.033244\n",
              "47               LoansCount -0.489276"
            ]
          },
          "execution_count": 22,
          "metadata": {
            "tags": []
          },
          "output_type": "execute_result"
        }
      ],
      "source": [
        "# Analyzing Coefficients\n",
        "pd.concat([pd.DataFrame(dataset.drop(columns = 'user').columns, columns = [\"features\"]),\n",
        "           pd.DataFrame(np.transpose(classifier.coef_), columns = [\"coef\"])\n",
        "           ],axis = 1)"
      ]
    },
    {
      "cell_type": "markdown",
      "metadata": {
        "colab_type": "text",
        "id": "62PtyghGOcpM"
      },
      "source": [
        "#### Model Tuning ####"
      ]
    },
    {
      "cell_type": "code",
      "execution_count": 0,
      "metadata": {
        "colab": {
          "base_uri": "https://localhost:8080/",
          "height": 68
        },
        "colab_type": "code",
        "id": "j822lIkv8_TV",
        "outputId": "a28f5e01-d73b-4a5b-e79f-a4c95c67d879"
      },
      "outputs": [
        {
          "name": "stderr",
          "output_type": "stream",
          "text": [
            "/usr/local/lib/python3.6/dist-packages/sklearn/linear_model/logistic.py:432: FutureWarning: Default solver will be changed to 'lbfgs' in 0.22. Specify a solver to silence this warning.\n",
            "  FutureWarning)\n"
          ]
        },
        {
          "name": "stdout",
          "output_type": "stream",
          "text": [
            "Took 48.79 seconds\n"
          ]
        }
      ],
      "source": [
        "## Grid Search (Round 1)\n",
        "import time\n",
        "from sklearn.model_selection import GridSearchCV\n",
        "\n",
        "# Select Regularization Method\n",
        "penalty = ['l1', 'l2']\n",
        "\n",
        "# Create regularization hyperparameter space\n",
        "C = [0.001, 0.01, 0.1, 1, 10, 100, 1000]\n",
        "\n",
        "# Combine Parameters\n",
        "parameters = dict(C=C, penalty=penalty)\n",
        "\n",
        "grid_search = GridSearchCV(estimator = classifier,param_grid = parameters,scoring = \"accuracy\",cv = 10,n_jobs = -1)\n",
        "t0 = time.time()\n",
        "grid_search = grid_search.fit(X_train, y_train)\n",
        "t1 = time.time()\n",
        "print(\"Took %0.2f seconds\" % (t1 - t0))"
      ]
    },
    {
      "cell_type": "code",
      "execution_count": 0,
      "metadata": {
        "colab": {
          "base_uri": "https://localhost:8080/",
          "height": 34
        },
        "colab_type": "code",
        "id": "1mi9cPYJOd6s",
        "outputId": "be1ae4cb-b80c-4b28-a358-71d41de30995"
      },
      "outputs": [
        {
          "data": {
            "text/plain": [
              "(0.76709165746411, {'C': 1, 'penalty': 'l1'})"
            ]
          },
          "execution_count": 24,
          "metadata": {
            "tags": []
          },
          "output_type": "execute_result"
        }
      ],
      "source": [
        "rf_best_accuracy = grid_search.best_score_\n",
        "rf_best_parameters = grid_search.best_params_\n",
        "rf_best_accuracy, rf_best_parameters\n"
      ]
    },
    {
      "cell_type": "code",
      "execution_count": 0,
      "metadata": {
        "colab": {
          "base_uri": "https://localhost:8080/",
          "height": 68
        },
        "colab_type": "code",
        "id": "NVHIcV7_9CTf",
        "outputId": "7c4789c1-0a14-40f9-a685-c707cb477943"
      },
      "outputs": [
        {
          "name": "stderr",
          "output_type": "stream",
          "text": [
            "/usr/local/lib/python3.6/dist-packages/sklearn/linear_model/logistic.py:432: FutureWarning: Default solver will be changed to 'lbfgs' in 0.22. Specify a solver to silence this warning.\n",
            "  FutureWarning)\n"
          ]
        },
        {
          "name": "stdout",
          "output_type": "stream",
          "text": [
            "Took 46.58 seconds\n"
          ]
        }
      ],
      "source": [
        "## Grid Search (Round 2)\n",
        "\n",
        "# Select Regularization Method\n",
        "penalty = ['l1', 'l2']\n",
        "\n",
        "# Create regularization hyperparameter space\n",
        "C = [0.1, 0.5, 0.9, 1, 2, 5]\n",
        "\n",
        "# Combine Parameters\n",
        "parameters = dict(C=C, penalty=penalty)\n",
        "\n",
        "grid_search = GridSearchCV(estimator = classifier,param_grid = parameters,scoring = \"accuracy\",cv = 10,n_jobs = -1)\n",
        "t0 = time.time()\n",
        "grid_search = grid_search.fit(X_train, y_train)\n",
        "t1 = time.time()\n",
        "print(\"Took %0.2f seconds\" % (t1 - t0))"
      ]
    },
    {
      "cell_type": "code",
      "execution_count": 0,
      "metadata": {
        "colab": {
          "base_uri": "https://localhost:8080/",
          "height": 51
        },
        "colab_type": "code",
        "id": "57E_TYKzO7F_",
        "outputId": "755b4378-f924-42fb-d08f-9c62cb522031"
      },
      "outputs": [
        {
          "name": "stdout",
          "output_type": "stream",
          "text": [
            "0.7671669511093264 {'C': 0.5, 'penalty': 'l1'}\n",
            "0.7671669511093264\n"
          ]
        }
      ],
      "source": [
        "rf_best_accuracy = grid_search.best_score_\n",
        "rf_best_parameters = grid_search.best_params_\n",
        "print(rf_best_accuracy, rf_best_parameters)\n",
        "print(grid_search.best_score_)"
      ]
    },
    {
      "cell_type": "markdown",
      "metadata": {
        "colab_type": "text",
        "id": "OlLfu5rSO9g2"
      },
      "source": [
        "#### End of Model ####"
      ]
    },
    {
      "cell_type": "code",
      "execution_count": 0,
      "metadata": {
        "colab": {
          "base_uri": "https://localhost:8080/",
          "height": 1000
        },
        "colab_type": "code",
        "id": "j7X1iGyD9E_2",
        "outputId": "ce6435d1-b967-4b38-92a4-4032d4272109"
      },
      "outputs": [
        {
          "data": {
            "text/html": [
              "<div>\n",
              "<style scoped>\n",
              "    .dataframe tbody tr th:only-of-type {\n",
              "        vertical-align: middle;\n",
              "    }\n",
              "\n",
              "    .dataframe tbody tr th {\n",
              "        vertical-align: top;\n",
              "    }\n",
              "\n",
              "    .dataframe thead th {\n",
              "        text-align: right;\n",
              "    }\n",
              "</style>\n",
              "<table border=\"1\" class=\"dataframe\">\n",
              "  <thead>\n",
              "    <tr style=\"text-align: right;\">\n",
              "      <th></th>\n",
              "      <th>user</th>\n",
              "      <th>enrolled</th>\n",
              "      <th>predicted_reach</th>\n",
              "    </tr>\n",
              "  </thead>\n",
              "  <tbody>\n",
              "    <tr>\n",
              "      <th>0</th>\n",
              "      <td>239786</td>\n",
              "      <td>1</td>\n",
              "      <td>1</td>\n",
              "    </tr>\n",
              "    <tr>\n",
              "      <th>1</th>\n",
              "      <td>279644</td>\n",
              "      <td>1</td>\n",
              "      <td>1</td>\n",
              "    </tr>\n",
              "    <tr>\n",
              "      <th>2</th>\n",
              "      <td>98290</td>\n",
              "      <td>0</td>\n",
              "      <td>0</td>\n",
              "    </tr>\n",
              "    <tr>\n",
              "      <th>3</th>\n",
              "      <td>170150</td>\n",
              "      <td>1</td>\n",
              "      <td>1</td>\n",
              "    </tr>\n",
              "    <tr>\n",
              "      <th>4</th>\n",
              "      <td>237568</td>\n",
              "      <td>1</td>\n",
              "      <td>1</td>\n",
              "    </tr>\n",
              "    <tr>\n",
              "      <th>5</th>\n",
              "      <td>65042</td>\n",
              "      <td>1</td>\n",
              "      <td>0</td>\n",
              "    </tr>\n",
              "    <tr>\n",
              "      <th>6</th>\n",
              "      <td>207226</td>\n",
              "      <td>1</td>\n",
              "      <td>1</td>\n",
              "    </tr>\n",
              "    <tr>\n",
              "      <th>7</th>\n",
              "      <td>363062</td>\n",
              "      <td>0</td>\n",
              "      <td>0</td>\n",
              "    </tr>\n",
              "    <tr>\n",
              "      <th>8</th>\n",
              "      <td>152296</td>\n",
              "      <td>1</td>\n",
              "      <td>1</td>\n",
              "    </tr>\n",
              "    <tr>\n",
              "      <th>9</th>\n",
              "      <td>64484</td>\n",
              "      <td>0</td>\n",
              "      <td>0</td>\n",
              "    </tr>\n",
              "    <tr>\n",
              "      <th>10</th>\n",
              "      <td>38108</td>\n",
              "      <td>1</td>\n",
              "      <td>1</td>\n",
              "    </tr>\n",
              "    <tr>\n",
              "      <th>11</th>\n",
              "      <td>359940</td>\n",
              "      <td>0</td>\n",
              "      <td>0</td>\n",
              "    </tr>\n",
              "    <tr>\n",
              "      <th>12</th>\n",
              "      <td>136089</td>\n",
              "      <td>0</td>\n",
              "      <td>0</td>\n",
              "    </tr>\n",
              "    <tr>\n",
              "      <th>13</th>\n",
              "      <td>14231</td>\n",
              "      <td>1</td>\n",
              "      <td>1</td>\n",
              "    </tr>\n",
              "    <tr>\n",
              "      <th>14</th>\n",
              "      <td>216038</td>\n",
              "      <td>0</td>\n",
              "      <td>0</td>\n",
              "    </tr>\n",
              "    <tr>\n",
              "      <th>15</th>\n",
              "      <td>18918</td>\n",
              "      <td>1</td>\n",
              "      <td>1</td>\n",
              "    </tr>\n",
              "    <tr>\n",
              "      <th>16</th>\n",
              "      <td>316730</td>\n",
              "      <td>1</td>\n",
              "      <td>1</td>\n",
              "    </tr>\n",
              "    <tr>\n",
              "      <th>17</th>\n",
              "      <td>28308</td>\n",
              "      <td>1</td>\n",
              "      <td>0</td>\n",
              "    </tr>\n",
              "    <tr>\n",
              "      <th>18</th>\n",
              "      <td>228387</td>\n",
              "      <td>1</td>\n",
              "      <td>0</td>\n",
              "    </tr>\n",
              "    <tr>\n",
              "      <th>19</th>\n",
              "      <td>69640</td>\n",
              "      <td>1</td>\n",
              "      <td>1</td>\n",
              "    </tr>\n",
              "    <tr>\n",
              "      <th>20</th>\n",
              "      <td>358264</td>\n",
              "      <td>0</td>\n",
              "      <td>0</td>\n",
              "    </tr>\n",
              "    <tr>\n",
              "      <th>21</th>\n",
              "      <td>348059</td>\n",
              "      <td>0</td>\n",
              "      <td>0</td>\n",
              "    </tr>\n",
              "    <tr>\n",
              "      <th>22</th>\n",
              "      <td>178743</td>\n",
              "      <td>1</td>\n",
              "      <td>1</td>\n",
              "    </tr>\n",
              "    <tr>\n",
              "      <th>23</th>\n",
              "      <td>167556</td>\n",
              "      <td>0</td>\n",
              "      <td>0</td>\n",
              "    </tr>\n",
              "    <tr>\n",
              "      <th>24</th>\n",
              "      <td>294101</td>\n",
              "      <td>0</td>\n",
              "      <td>0</td>\n",
              "    </tr>\n",
              "    <tr>\n",
              "      <th>25</th>\n",
              "      <td>192801</td>\n",
              "      <td>0</td>\n",
              "      <td>1</td>\n",
              "    </tr>\n",
              "    <tr>\n",
              "      <th>26</th>\n",
              "      <td>163983</td>\n",
              "      <td>1</td>\n",
              "      <td>1</td>\n",
              "    </tr>\n",
              "    <tr>\n",
              "      <th>27</th>\n",
              "      <td>298830</td>\n",
              "      <td>0</td>\n",
              "      <td>0</td>\n",
              "    </tr>\n",
              "    <tr>\n",
              "      <th>28</th>\n",
              "      <td>151790</td>\n",
              "      <td>1</td>\n",
              "      <td>1</td>\n",
              "    </tr>\n",
              "    <tr>\n",
              "      <th>29</th>\n",
              "      <td>20200</td>\n",
              "      <td>1</td>\n",
              "      <td>1</td>\n",
              "    </tr>\n",
              "    <tr>\n",
              "      <th>...</th>\n",
              "      <td>...</td>\n",
              "      <td>...</td>\n",
              "      <td>...</td>\n",
              "    </tr>\n",
              "    <tr>\n",
              "      <th>9970</th>\n",
              "      <td>348989</td>\n",
              "      <td>0</td>\n",
              "      <td>1</td>\n",
              "    </tr>\n",
              "    <tr>\n",
              "      <th>9971</th>\n",
              "      <td>248593</td>\n",
              "      <td>1</td>\n",
              "      <td>0</td>\n",
              "    </tr>\n",
              "    <tr>\n",
              "      <th>9972</th>\n",
              "      <td>316086</td>\n",
              "      <td>1</td>\n",
              "      <td>1</td>\n",
              "    </tr>\n",
              "    <tr>\n",
              "      <th>9973</th>\n",
              "      <td>192540</td>\n",
              "      <td>1</td>\n",
              "      <td>1</td>\n",
              "    </tr>\n",
              "    <tr>\n",
              "      <th>9974</th>\n",
              "      <td>256833</td>\n",
              "      <td>0</td>\n",
              "      <td>0</td>\n",
              "    </tr>\n",
              "    <tr>\n",
              "      <th>9975</th>\n",
              "      <td>273991</td>\n",
              "      <td>1</td>\n",
              "      <td>1</td>\n",
              "    </tr>\n",
              "    <tr>\n",
              "      <th>9976</th>\n",
              "      <td>365937</td>\n",
              "      <td>0</td>\n",
              "      <td>0</td>\n",
              "    </tr>\n",
              "    <tr>\n",
              "      <th>9977</th>\n",
              "      <td>295129</td>\n",
              "      <td>0</td>\n",
              "      <td>0</td>\n",
              "    </tr>\n",
              "    <tr>\n",
              "      <th>9978</th>\n",
              "      <td>255715</td>\n",
              "      <td>1</td>\n",
              "      <td>0</td>\n",
              "    </tr>\n",
              "    <tr>\n",
              "      <th>9979</th>\n",
              "      <td>37332</td>\n",
              "      <td>0</td>\n",
              "      <td>1</td>\n",
              "    </tr>\n",
              "    <tr>\n",
              "      <th>9980</th>\n",
              "      <td>164886</td>\n",
              "      <td>1</td>\n",
              "      <td>0</td>\n",
              "    </tr>\n",
              "    <tr>\n",
              "      <th>9981</th>\n",
              "      <td>309967</td>\n",
              "      <td>0</td>\n",
              "      <td>1</td>\n",
              "    </tr>\n",
              "    <tr>\n",
              "      <th>9982</th>\n",
              "      <td>14907</td>\n",
              "      <td>0</td>\n",
              "      <td>0</td>\n",
              "    </tr>\n",
              "    <tr>\n",
              "      <th>9983</th>\n",
              "      <td>244737</td>\n",
              "      <td>1</td>\n",
              "      <td>1</td>\n",
              "    </tr>\n",
              "    <tr>\n",
              "      <th>9984</th>\n",
              "      <td>284862</td>\n",
              "      <td>0</td>\n",
              "      <td>1</td>\n",
              "    </tr>\n",
              "    <tr>\n",
              "      <th>9985</th>\n",
              "      <td>60719</td>\n",
              "      <td>1</td>\n",
              "      <td>1</td>\n",
              "    </tr>\n",
              "    <tr>\n",
              "      <th>9986</th>\n",
              "      <td>262103</td>\n",
              "      <td>1</td>\n",
              "      <td>0</td>\n",
              "    </tr>\n",
              "    <tr>\n",
              "      <th>9987</th>\n",
              "      <td>243679</td>\n",
              "      <td>1</td>\n",
              "      <td>1</td>\n",
              "    </tr>\n",
              "    <tr>\n",
              "      <th>9988</th>\n",
              "      <td>280000</td>\n",
              "      <td>1</td>\n",
              "      <td>1</td>\n",
              "    </tr>\n",
              "    <tr>\n",
              "      <th>9989</th>\n",
              "      <td>255074</td>\n",
              "      <td>0</td>\n",
              "      <td>0</td>\n",
              "    </tr>\n",
              "    <tr>\n",
              "      <th>9990</th>\n",
              "      <td>347521</td>\n",
              "      <td>0</td>\n",
              "      <td>0</td>\n",
              "    </tr>\n",
              "    <tr>\n",
              "      <th>9991</th>\n",
              "      <td>335029</td>\n",
              "      <td>1</td>\n",
              "      <td>0</td>\n",
              "    </tr>\n",
              "    <tr>\n",
              "      <th>9992</th>\n",
              "      <td>37271</td>\n",
              "      <td>1</td>\n",
              "      <td>0</td>\n",
              "    </tr>\n",
              "    <tr>\n",
              "      <th>9993</th>\n",
              "      <td>240006</td>\n",
              "      <td>1</td>\n",
              "      <td>1</td>\n",
              "    </tr>\n",
              "    <tr>\n",
              "      <th>9994</th>\n",
              "      <td>279449</td>\n",
              "      <td>0</td>\n",
              "      <td>1</td>\n",
              "    </tr>\n",
              "    <tr>\n",
              "      <th>9995</th>\n",
              "      <td>143036</td>\n",
              "      <td>1</td>\n",
              "      <td>0</td>\n",
              "    </tr>\n",
              "    <tr>\n",
              "      <th>9996</th>\n",
              "      <td>91158</td>\n",
              "      <td>1</td>\n",
              "      <td>1</td>\n",
              "    </tr>\n",
              "    <tr>\n",
              "      <th>9997</th>\n",
              "      <td>248318</td>\n",
              "      <td>0</td>\n",
              "      <td>0</td>\n",
              "    </tr>\n",
              "    <tr>\n",
              "      <th>9998</th>\n",
              "      <td>142418</td>\n",
              "      <td>1</td>\n",
              "      <td>1</td>\n",
              "    </tr>\n",
              "    <tr>\n",
              "      <th>9999</th>\n",
              "      <td>279355</td>\n",
              "      <td>1</td>\n",
              "      <td>1</td>\n",
              "    </tr>\n",
              "  </tbody>\n",
              "</table>\n",
              "<p>10000 rows × 3 columns</p>\n",
              "</div>"
            ],
            "text/plain": [
              "        user  enrolled  predicted_reach\n",
              "0     239786         1                1\n",
              "1     279644         1                1\n",
              "2      98290         0                0\n",
              "3     170150         1                1\n",
              "4     237568         1                1\n",
              "5      65042         1                0\n",
              "6     207226         1                1\n",
              "7     363062         0                0\n",
              "8     152296         1                1\n",
              "9      64484         0                0\n",
              "10     38108         1                1\n",
              "11    359940         0                0\n",
              "12    136089         0                0\n",
              "13     14231         1                1\n",
              "14    216038         0                0\n",
              "15     18918         1                1\n",
              "16    316730         1                1\n",
              "17     28308         1                0\n",
              "18    228387         1                0\n",
              "19     69640         1                1\n",
              "20    358264         0                0\n",
              "21    348059         0                0\n",
              "22    178743         1                1\n",
              "23    167556         0                0\n",
              "24    294101         0                0\n",
              "25    192801         0                1\n",
              "26    163983         1                1\n",
              "27    298830         0                0\n",
              "28    151790         1                1\n",
              "29     20200         1                1\n",
              "...      ...       ...              ...\n",
              "9970  348989         0                1\n",
              "9971  248593         1                0\n",
              "9972  316086         1                1\n",
              "9973  192540         1                1\n",
              "9974  256833         0                0\n",
              "9975  273991         1                1\n",
              "9976  365937         0                0\n",
              "9977  295129         0                0\n",
              "9978  255715         1                0\n",
              "9979   37332         0                1\n",
              "9980  164886         1                0\n",
              "9981  309967         0                1\n",
              "9982   14907         0                0\n",
              "9983  244737         1                1\n",
              "9984  284862         0                1\n",
              "9985   60719         1                1\n",
              "9986  262103         1                0\n",
              "9987  243679         1                1\n",
              "9988  280000         1                1\n",
              "9989  255074         0                0\n",
              "9990  347521         0                0\n",
              "9991  335029         1                0\n",
              "9992   37271         1                0\n",
              "9993  240006         1                1\n",
              "9994  279449         0                1\n",
              "9995  143036         1                0\n",
              "9996   91158         1                1\n",
              "9997  248318         0                0\n",
              "9998  142418         1                1\n",
              "9999  279355         1                1\n",
              "\n",
              "[10000 rows x 3 columns]"
            ]
          },
          "execution_count": 29,
          "metadata": {
            "tags": []
          },
          "output_type": "execute_result"
        }
      ],
      "source": [
        "# Formatting Final Results\n",
        "final_results = pd.concat([y_test, test_identity], axis = 1).dropna()\n",
        "final_results['predicted_reach'] = y_pred\n",
        "final_results = final_results[['user', 'enrolled', 'predicted_reach']].reset_index(drop=True)\n",
        "final_results"
      ]
    }
  ],
  "metadata": {
    "accelerator": "GPU",
    "colab": {
      "include_colab_link": true,
      "name": "Directing Customers to Subscription Through App Behavior Analysis",
      "provenance": [],
      "version": "0.3.2"
    },
    "kernelspec": {
      "display_name": "Python 3",
      "name": "python3"
    },
    "language_info": {
      "codemirror_mode": {
        "name": "ipython",
        "version": 3
      },
      "file_extension": ".py",
      "mimetype": "text/x-python",
      "name": "python",
      "nbconvert_exporter": "python",
      "pygments_lexer": "ipython3",
      "version": "3.10.10"
    }
  },
  "nbformat": 4,
  "nbformat_minor": 0
}
