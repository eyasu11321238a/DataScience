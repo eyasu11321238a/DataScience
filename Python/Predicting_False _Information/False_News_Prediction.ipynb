{
 "cells": [
  {
   "cell_type": "markdown",
   "id": "42bfc325",
   "metadata": {},
   "source": [
    "# Fake News Prediction"
   ]
  },
  {
   "cell_type": "code",
   "execution_count": 194,
   "id": "2338f044",
   "metadata": {},
   "outputs": [],
   "source": [
    "import csv\n",
    "import io\n",
    "import numpy as np\n",
    "import seaborn as sns\n",
    "import matplotlib.pyplot as plt\n",
    "import pandas as pd \n",
    "from sklearn.model_selection import train_test_split\n",
    "from sklearn.linear_model import LogisticRegression\n",
    "from sklearn.tree import DecisionTreeClassifier\n",
    "from sklearn.metrics import classification_report\n",
    "from sklearn.metrics import confusion_matrix, mean_squared_error, mean_absolute_error\n",
    "from sklearn.metrics import accuracy_score\n",
    "from scipy.sparse import hstack\n",
    "from sklearn.feature_extraction.text import CountVectorizer\n",
    "from sklearn.model_selection import train_test_split\n",
    "\n",
    "import warnings\n",
    "warnings.filterwarnings(\"ignore\")\n",
    "\n",
    "%matplotlib inline "
   ]
  },
  {
   "cell_type": "markdown",
   "id": "ddc25f39",
   "metadata": {},
   "source": [
    "### Converting the True Text File to CSV file"
   ]
  },
  {
   "cell_type": "code",
   "execution_count": 6,
   "id": "ef2c41a4",
   "metadata": {},
   "outputs": [
    {
     "name": "stdout",
     "output_type": "stream",
     "text": [
      "File converted to True.csv\n"
     ]
    }
   ],
   "source": [
    "# Input and output file names\n",
    "input_file = 'True.txt'\n",
    "output_file = 'True.csv'\n",
    "\n",
    "def parse_line(line):\n",
    "    \"\"\"Parse a single line into fields, handling quoted text.\"\"\"\n",
    "    # Split the line by commas that are not inside quotes\n",
    "    import csv\n",
    "    from io import StringIO\n",
    "    \n",
    "    # Use StringIO to simulate file reading behavior\n",
    "    reader = csv.reader(StringIO(line), quotechar='\"', delimiter=',', escapechar='\\\\')\n",
    "    parsed_fields = next(reader)\n",
    "    \n",
    "    return parsed_fields\n",
    "\n",
    "# Read and process the text file\n",
    "with open(input_file, 'r', encoding='utf-8') as txtfile:\n",
    "    lines = txtfile.readlines()\n",
    "\n",
    "# Writing to CSV\n",
    "with open(output_file, 'w', newline='', encoding='utf-8') as csvfile:\n",
    "    csv_writer = csv.writer(csvfile)\n",
    "    \n",
    "    # Write header\n",
    "    csv_writer.writerow(['title', 'text', 'subject', 'date'])\n",
    "    \n",
    "    for index, line in enumerate(lines):\n",
    "        # Process each line and write to CSV\n",
    "        fields = parse_line(line.strip())\n",
    "        if len(fields) == 4:\n",
    "            csv_writer.writerow([index] + fields)\n",
    "        else:\n",
    "            print(f\"Skipping malformed line {index + 1}\")\n",
    "\n",
    "print(f'File converted to {output_file}')\n"
   ]
  },
  {
   "cell_type": "markdown",
   "id": "6fccc91b",
   "metadata": {},
   "source": [
    "### Converting the Fake File to CSV file"
   ]
  },
  {
   "cell_type": "code",
   "execution_count": 26,
   "id": "9fa2af10",
   "metadata": {},
   "outputs": [
    {
     "name": "stdout",
     "output_type": "stream",
     "text": [
      "Skipping malformed line 1052:\n",
      "Skipping malformed line 1059:\n",
      "Skipping malformed line 1066:\n",
      "Skipping malformed line 1610:\n",
      "Skipping malformed line 1617:\n",
      "Skipping malformed line 1624:\n",
      "Skipping malformed line 3960:\n",
      "Skipping malformed line 3967:\n",
      "Skipping malformed line 3974:\n",
      "Skipping malformed line 7830:\n",
      "Skipping malformed line 7837:\n",
      "Skipping malformed line 7844:\n",
      "Total lines read: 23538\n",
      "Total lines written to CSV: 23478\n",
      "File converted to Fake.csv\n"
     ]
    }
   ],
   "source": [
    "# Input and output file names\n",
    "input_file = 'Fake.txt'\n",
    "output_file = 'Fake.csv'\n",
    "\n",
    "def parse_line(line):\n",
    "    \"\"\"Parse a single line into fields using CSV reader.\"\"\"\n",
    "    try:\n",
    "        # Use StringIO to simulate file reading behavior\n",
    "        f = io.StringIO(line)\n",
    "        reader = csv.reader(f, quotechar='\"', delimiter=',', escapechar='\\\\')\n",
    "        return next(reader)\n",
    "    except StopIteration:\n",
    "        # Return an empty list if no rows are found\n",
    "        return []\n",
    "    except csv.Error as e:\n",
    "        print(f\"CSV Error: {e} in line: {line.strip()}\")\n",
    "        return []\n",
    "\n",
    "# Read and process the text file\n",
    "with open(input_file, 'r', encoding='utf-8') as txtfile:\n",
    "    lines = txtfile.readlines()\n",
    "\n",
    "# Writing to CSV\n",
    "with open(output_file, 'w', newline='', encoding='utf-8') as csvfile:\n",
    "    csv_writer = csv.writer(csvfile)\n",
    "    \n",
    "    # Write header\n",
    "    csv_writer.writerow(['title', 'text', 'subject', 'date'])\n",
    "    \n",
    "    total_lines = len(lines)\n",
    "    parsed_lines = 0\n",
    "    \n",
    "    for index, line in enumerate(lines):\n",
    "        # Skip empty lines\n",
    "        if not line.strip():\n",
    "            continue\n",
    "        \n",
    "        # Parse the line\n",
    "        fields = parse_line(line.strip())\n",
    "        if len(fields) == 4:\n",
    "            # Write the row with an index as the first column\n",
    "            csv_writer.writerow([index] + fields)\n",
    "            parsed_lines += 1\n",
    "        else:\n",
    "            print(f\"Skipping malformed line {index + 1}:\")\n",
    "    \n",
    "    print(f\"Total lines read: {total_lines}\")\n",
    "    print(f\"Total lines written to CSV: {parsed_lines}\")\n",
    "\n",
    "print(f'File converted to {output_file}')\n"
   ]
  },
  {
   "cell_type": "code",
   "execution_count": 115,
   "id": "9373eea2",
   "metadata": {},
   "outputs": [],
   "source": [
    "true_news_df = pd.read_csv('True.csv')\n",
    "fake_news_df = pd.read_csv('Fake.csv')"
   ]
  },
  {
   "cell_type": "code",
   "execution_count": 116,
   "id": "7b77fbf0",
   "metadata": {},
   "outputs": [
    {
     "data": {
      "text/html": [
       "<div>\n",
       "<style scoped>\n",
       "    .dataframe tbody tr th:only-of-type {\n",
       "        vertical-align: middle;\n",
       "    }\n",
       "\n",
       "    .dataframe tbody tr th {\n",
       "        vertical-align: top;\n",
       "    }\n",
       "\n",
       "    .dataframe thead th {\n",
       "        text-align: right;\n",
       "    }\n",
       "</style>\n",
       "<table border=\"1\" class=\"dataframe\">\n",
       "  <thead>\n",
       "    <tr style=\"text-align: right;\">\n",
       "      <th></th>\n",
       "      <th>title</th>\n",
       "      <th>text</th>\n",
       "      <th>subject</th>\n",
       "      <th>date</th>\n",
       "    </tr>\n",
       "  </thead>\n",
       "  <tbody>\n",
       "    <tr>\n",
       "      <th>0</th>\n",
       "      <td>As U.S. budget fight looms, Republicans flip t...</td>\n",
       "      <td>WASHINGTON (Reuters) - The head of a conservat...</td>\n",
       "      <td>politicsNews</td>\n",
       "      <td>December 31, 2017</td>\n",
       "    </tr>\n",
       "    <tr>\n",
       "      <th>1</th>\n",
       "      <td>U.S. military to accept transgender recruits o...</td>\n",
       "      <td>WASHINGTON (Reuters) - Transgender people will...</td>\n",
       "      <td>politicsNews</td>\n",
       "      <td>December 29, 2017</td>\n",
       "    </tr>\n",
       "    <tr>\n",
       "      <th>2</th>\n",
       "      <td>Senior U.S. Republican senator: 'Let Mr. Muell...</td>\n",
       "      <td>WASHINGTON (Reuters) - The special counsel inv...</td>\n",
       "      <td>politicsNews</td>\n",
       "      <td>December 31, 2017</td>\n",
       "    </tr>\n",
       "    <tr>\n",
       "      <th>3</th>\n",
       "      <td>FBI Russia probe helped by Australian diplomat...</td>\n",
       "      <td>WASHINGTON (Reuters) - Trump campaign adviser ...</td>\n",
       "      <td>politicsNews</td>\n",
       "      <td>December 30, 2017</td>\n",
       "    </tr>\n",
       "    <tr>\n",
       "      <th>4</th>\n",
       "      <td>Trump wants Postal Service to charge 'much mor...</td>\n",
       "      <td>SEATTLE/WASHINGTON (Reuters) - President Donal...</td>\n",
       "      <td>politicsNews</td>\n",
       "      <td>December 29, 2017</td>\n",
       "    </tr>\n",
       "  </tbody>\n",
       "</table>\n",
       "</div>"
      ],
      "text/plain": [
       "                                               title  \\\n",
       "0  As U.S. budget fight looms, Republicans flip t...   \n",
       "1  U.S. military to accept transgender recruits o...   \n",
       "2  Senior U.S. Republican senator: 'Let Mr. Muell...   \n",
       "3  FBI Russia probe helped by Australian diplomat...   \n",
       "4  Trump wants Postal Service to charge 'much mor...   \n",
       "\n",
       "                                                text       subject  \\\n",
       "0  WASHINGTON (Reuters) - The head of a conservat...  politicsNews   \n",
       "1  WASHINGTON (Reuters) - Transgender people will...  politicsNews   \n",
       "2  WASHINGTON (Reuters) - The special counsel inv...  politicsNews   \n",
       "3  WASHINGTON (Reuters) - Trump campaign adviser ...  politicsNews   \n",
       "4  SEATTLE/WASHINGTON (Reuters) - President Donal...  politicsNews   \n",
       "\n",
       "                 date  \n",
       "0  December 31, 2017   \n",
       "1  December 29, 2017   \n",
       "2  December 31, 2017   \n",
       "3  December 30, 2017   \n",
       "4  December 29, 2017   "
      ]
     },
     "execution_count": 116,
     "metadata": {},
     "output_type": "execute_result"
    }
   ],
   "source": [
    "true_news_df.head()"
   ]
  },
  {
   "cell_type": "code",
   "execution_count": 117,
   "id": "ed327c88",
   "metadata": {},
   "outputs": [
    {
     "data": {
      "text/html": [
       "<div>\n",
       "<style scoped>\n",
       "    .dataframe tbody tr th:only-of-type {\n",
       "        vertical-align: middle;\n",
       "    }\n",
       "\n",
       "    .dataframe tbody tr th {\n",
       "        vertical-align: top;\n",
       "    }\n",
       "\n",
       "    .dataframe thead th {\n",
       "        text-align: right;\n",
       "    }\n",
       "</style>\n",
       "<table border=\"1\" class=\"dataframe\">\n",
       "  <thead>\n",
       "    <tr style=\"text-align: right;\">\n",
       "      <th></th>\n",
       "      <th>title</th>\n",
       "      <th>text</th>\n",
       "      <th>subject</th>\n",
       "      <th>date</th>\n",
       "    </tr>\n",
       "  </thead>\n",
       "  <tbody>\n",
       "    <tr>\n",
       "      <th>23472</th>\n",
       "      <td>McPain: John McCain Furious That Iran Treated ...</td>\n",
       "      <td>21st Century Wire says As 21WIRE reported earl...</td>\n",
       "      <td>Middle-east</td>\n",
       "      <td>January 16, 2016</td>\n",
       "    </tr>\n",
       "    <tr>\n",
       "      <th>23473</th>\n",
       "      <td>JUSTICE? Yahoo Settles E-mail Privacy Class-ac...</td>\n",
       "      <td>21st Century Wire says It s a familiar theme. ...</td>\n",
       "      <td>Middle-east</td>\n",
       "      <td>January 16, 2016</td>\n",
       "    </tr>\n",
       "    <tr>\n",
       "      <th>23474</th>\n",
       "      <td>Sunnistan: US and Allied ‘Safe Zone’ Plan to T...</td>\n",
       "      <td>Patrick Henningsen  21st Century WireRemember ...</td>\n",
       "      <td>Middle-east</td>\n",
       "      <td>January 15, 2016</td>\n",
       "    </tr>\n",
       "    <tr>\n",
       "      <th>23475</th>\n",
       "      <td>How to Blow $700 Million: Al Jazeera America F...</td>\n",
       "      <td>21st Century Wire says Al Jazeera America will...</td>\n",
       "      <td>Middle-east</td>\n",
       "      <td>January 14, 2016</td>\n",
       "    </tr>\n",
       "    <tr>\n",
       "      <th>23476</th>\n",
       "      <td>10 U.S. Navy Sailors Held by Iranian Military ...</td>\n",
       "      <td>21st Century Wire says As 21WIRE predicted in ...</td>\n",
       "      <td>Middle-east</td>\n",
       "      <td>January 12, 2016</td>\n",
       "    </tr>\n",
       "  </tbody>\n",
       "</table>\n",
       "</div>"
      ],
      "text/plain": [
       "                                                   title  \\\n",
       "23472  McPain: John McCain Furious That Iran Treated ...   \n",
       "23473  JUSTICE? Yahoo Settles E-mail Privacy Class-ac...   \n",
       "23474  Sunnistan: US and Allied ‘Safe Zone’ Plan to T...   \n",
       "23475  How to Blow $700 Million: Al Jazeera America F...   \n",
       "23476  10 U.S. Navy Sailors Held by Iranian Military ...   \n",
       "\n",
       "                                                    text      subject  \\\n",
       "23472  21st Century Wire says As 21WIRE reported earl...  Middle-east   \n",
       "23473  21st Century Wire says It s a familiar theme. ...  Middle-east   \n",
       "23474  Patrick Henningsen  21st Century WireRemember ...  Middle-east   \n",
       "23475  21st Century Wire says Al Jazeera America will...  Middle-east   \n",
       "23476  21st Century Wire says As 21WIRE predicted in ...  Middle-east   \n",
       "\n",
       "                   date  \n",
       "23472  January 16, 2016  \n",
       "23473  January 16, 2016  \n",
       "23474  January 15, 2016  \n",
       "23475  January 14, 2016  \n",
       "23476  January 12, 2016  "
      ]
     },
     "execution_count": 117,
     "metadata": {},
     "output_type": "execute_result"
    }
   ],
   "source": [
    "fake_news_df.tail()"
   ]
  },
  {
   "cell_type": "code",
   "execution_count": 118,
   "id": "9713d5f6",
   "metadata": {},
   "outputs": [
    {
     "data": {
      "text/plain": [
       "subject\n",
       "politicsNews    11272\n",
       "worldnews       10145\n",
       "Name: count, dtype: int64"
      ]
     },
     "execution_count": 118,
     "metadata": {},
     "output_type": "execute_result"
    }
   ],
   "source": [
    "true_news_df['subject'].value_counts()"
   ]
  },
  {
   "cell_type": "code",
   "execution_count": 119,
   "id": "b8e44784",
   "metadata": {},
   "outputs": [
    {
     "data": {
      "image/png": "[encoded data removed]",
      "text/plain": [
       "<Figure size 500x300 with 1 Axes>"
      ]
     },
     "metadata": {},
     "output_type": "display_data"
    }
   ],
   "source": [
    "plt.figure(figsize=(5, 3))\n",
    "sns.countplot(data = true_news_df, y = 'subject', palette= 'dark')\n",
    "plt.show()"
   ]
  },
  {
   "cell_type": "code",
   "execution_count": 120,
   "id": "5f62dbf2",
   "metadata": {},
   "outputs": [
    {
     "data": {
      "image/png": "[encoded data removed]",
      "text/plain": [
       "<Figure size 500x400 with 1 Axes>"
      ]
     },
     "metadata": {},
     "output_type": "display_data"
    }
   ],
   "source": [
    "plt.figure(figsize= (5, 4) )\n",
    "sns.countplot(data = fake_news_df, y = 'subject', \n",
    "              order = fake_news_df['subject'].value_counts().index,\n",
    "              palette = \"Set1\")\n",
    "plt.show()"
   ]
  },
  {
   "cell_type": "code",
   "execution_count": 121,
   "id": "31caca9f",
   "metadata": {},
   "outputs": [
    {
     "data": {
      "text/html": [
       "<div>\n",
       "<style scoped>\n",
       "    .dataframe tbody tr th:only-of-type {\n",
       "        vertical-align: middle;\n",
       "    }\n",
       "\n",
       "    .dataframe tbody tr th {\n",
       "        vertical-align: top;\n",
       "    }\n",
       "\n",
       "    .dataframe thead th {\n",
       "        text-align: right;\n",
       "    }\n",
       "</style>\n",
       "<table border=\"1\" class=\"dataframe\">\n",
       "  <thead>\n",
       "    <tr style=\"text-align: right;\">\n",
       "      <th></th>\n",
       "      <th>title</th>\n",
       "      <th>text</th>\n",
       "      <th>subject</th>\n",
       "      <th>date</th>\n",
       "    </tr>\n",
       "  </thead>\n",
       "  <tbody>\n",
       "    <tr>\n",
       "      <th>0</th>\n",
       "      <td>As U.S. budget fight looms, Republicans flip t...</td>\n",
       "      <td>WASHINGTON (Reuters) - The head of a conservat...</td>\n",
       "      <td>politicsNews</td>\n",
       "      <td>December 31, 2017</td>\n",
       "    </tr>\n",
       "    <tr>\n",
       "      <th>1</th>\n",
       "      <td>U.S. military to accept transgender recruits o...</td>\n",
       "      <td>WASHINGTON (Reuters) - Transgender people will...</td>\n",
       "      <td>politicsNews</td>\n",
       "      <td>December 29, 2017</td>\n",
       "    </tr>\n",
       "    <tr>\n",
       "      <th>2</th>\n",
       "      <td>Senior U.S. Republican senator: 'Let Mr. Muell...</td>\n",
       "      <td>WASHINGTON (Reuters) - The special counsel inv...</td>\n",
       "      <td>politicsNews</td>\n",
       "      <td>December 31, 2017</td>\n",
       "    </tr>\n",
       "    <tr>\n",
       "      <th>3</th>\n",
       "      <td>FBI Russia probe helped by Australian diplomat...</td>\n",
       "      <td>WASHINGTON (Reuters) - Trump campaign adviser ...</td>\n",
       "      <td>politicsNews</td>\n",
       "      <td>December 30, 2017</td>\n",
       "    </tr>\n",
       "    <tr>\n",
       "      <th>4</th>\n",
       "      <td>Trump wants Postal Service to charge 'much mor...</td>\n",
       "      <td>SEATTLE/WASHINGTON (Reuters) - President Donal...</td>\n",
       "      <td>politicsNews</td>\n",
       "      <td>December 29, 2017</td>\n",
       "    </tr>\n",
       "  </tbody>\n",
       "</table>\n",
       "</div>"
      ],
      "text/plain": [
       "                                               title  \\\n",
       "0  As U.S. budget fight looms, Republicans flip t...   \n",
       "1  U.S. military to accept transgender recruits o...   \n",
       "2  Senior U.S. Republican senator: 'Let Mr. Muell...   \n",
       "3  FBI Russia probe helped by Australian diplomat...   \n",
       "4  Trump wants Postal Service to charge 'much mor...   \n",
       "\n",
       "                                                text       subject  \\\n",
       "0  WASHINGTON (Reuters) - The head of a conservat...  politicsNews   \n",
       "1  WASHINGTON (Reuters) - Transgender people will...  politicsNews   \n",
       "2  WASHINGTON (Reuters) - The special counsel inv...  politicsNews   \n",
       "3  WASHINGTON (Reuters) - Trump campaign adviser ...  politicsNews   \n",
       "4  SEATTLE/WASHINGTON (Reuters) - President Donal...  politicsNews   \n",
       "\n",
       "                 date  \n",
       "0  December 31, 2017   \n",
       "1  December 29, 2017   \n",
       "2  December 31, 2017   \n",
       "3  December 30, 2017   \n",
       "4  December 29, 2017   "
      ]
     },
     "execution_count": 121,
     "metadata": {},
     "output_type": "execute_result"
    }
   ],
   "source": [
    "true_news_df.head()"
   ]
  },
  {
   "cell_type": "markdown",
   "id": "2ff1bdbb",
   "metadata": {},
   "source": [
    "#### Let's Add a New Column to true_news_df: , Add a New Column to fake_news_df: and Combine the Two DataFrames:\n",
    "#### - Label the rows in true_news_df as 0 (indicating \"true\" news).\n",
    "#### - Label the rows in fake_news_df as 1 (indicating \"fake\" news).\n",
    "#### - Combine these two DataFrames into one final DataFrame (df_final), with a unified index and labels that distinguish between true and fake news."
   ]
  },
  {
   "cell_type": "code",
   "execution_count": 122,
   "id": "95bbd4f0",
   "metadata": {},
   "outputs": [],
   "source": [
    "true_news_df['is_fake'] = 0\n",
    "fake_news_df['is_fake'] = 1\n",
    "df_final = pd.concat([true_news_df, fake_news_df]).reset_index(drop = True)"
   ]
  },
  {
   "cell_type": "code",
   "execution_count": 123,
   "id": "154e5f84",
   "metadata": {},
   "outputs": [
    {
     "data": {
      "text/html": [
       "<div>\n",
       "<style scoped>\n",
       "    .dataframe tbody tr th:only-of-type {\n",
       "        vertical-align: middle;\n",
       "    }\n",
       "\n",
       "    .dataframe tbody tr th {\n",
       "        vertical-align: top;\n",
       "    }\n",
       "\n",
       "    .dataframe thead th {\n",
       "        text-align: right;\n",
       "    }\n",
       "</style>\n",
       "<table border=\"1\" class=\"dataframe\">\n",
       "  <thead>\n",
       "    <tr style=\"text-align: right;\">\n",
       "      <th></th>\n",
       "      <th>title</th>\n",
       "      <th>text</th>\n",
       "      <th>subject</th>\n",
       "      <th>date</th>\n",
       "      <th>is_fake</th>\n",
       "    </tr>\n",
       "  </thead>\n",
       "  <tbody>\n",
       "    <tr>\n",
       "      <th>0</th>\n",
       "      <td>As U.S. budget fight looms, Republicans flip t...</td>\n",
       "      <td>WASHINGTON (Reuters) - The head of a conservat...</td>\n",
       "      <td>politicsNews</td>\n",
       "      <td>December 31, 2017</td>\n",
       "      <td>0</td>\n",
       "    </tr>\n",
       "    <tr>\n",
       "      <th>1</th>\n",
       "      <td>U.S. military to accept transgender recruits o...</td>\n",
       "      <td>WASHINGTON (Reuters) - Transgender people will...</td>\n",
       "      <td>politicsNews</td>\n",
       "      <td>December 29, 2017</td>\n",
       "      <td>0</td>\n",
       "    </tr>\n",
       "    <tr>\n",
       "      <th>2</th>\n",
       "      <td>Senior U.S. Republican senator: 'Let Mr. Muell...</td>\n",
       "      <td>WASHINGTON (Reuters) - The special counsel inv...</td>\n",
       "      <td>politicsNews</td>\n",
       "      <td>December 31, 2017</td>\n",
       "      <td>0</td>\n",
       "    </tr>\n",
       "    <tr>\n",
       "      <th>3</th>\n",
       "      <td>FBI Russia probe helped by Australian diplomat...</td>\n",
       "      <td>WASHINGTON (Reuters) - Trump campaign adviser ...</td>\n",
       "      <td>politicsNews</td>\n",
       "      <td>December 30, 2017</td>\n",
       "      <td>0</td>\n",
       "    </tr>\n",
       "    <tr>\n",
       "      <th>4</th>\n",
       "      <td>Trump wants Postal Service to charge 'much mor...</td>\n",
       "      <td>SEATTLE/WASHINGTON (Reuters) - President Donal...</td>\n",
       "      <td>politicsNews</td>\n",
       "      <td>December 29, 2017</td>\n",
       "      <td>0</td>\n",
       "    </tr>\n",
       "  </tbody>\n",
       "</table>\n",
       "</div>"
      ],
      "text/plain": [
       "                                               title  \\\n",
       "0  As U.S. budget fight looms, Republicans flip t...   \n",
       "1  U.S. military to accept transgender recruits o...   \n",
       "2  Senior U.S. Republican senator: 'Let Mr. Muell...   \n",
       "3  FBI Russia probe helped by Australian diplomat...   \n",
       "4  Trump wants Postal Service to charge 'much mor...   \n",
       "\n",
       "                                                text       subject  \\\n",
       "0  WASHINGTON (Reuters) - The head of a conservat...  politicsNews   \n",
       "1  WASHINGTON (Reuters) - Transgender people will...  politicsNews   \n",
       "2  WASHINGTON (Reuters) - The special counsel inv...  politicsNews   \n",
       "3  WASHINGTON (Reuters) - Trump campaign adviser ...  politicsNews   \n",
       "4  SEATTLE/WASHINGTON (Reuters) - President Donal...  politicsNews   \n",
       "\n",
       "                 date  is_fake  \n",
       "0  December 31, 2017         0  \n",
       "1  December 29, 2017         0  \n",
       "2  December 31, 2017         0  \n",
       "3  December 30, 2017         0  \n",
       "4  December 29, 2017         0  "
      ]
     },
     "execution_count": 123,
     "metadata": {},
     "output_type": "execute_result"
    }
   ],
   "source": [
    "df_final.head()"
   ]
  },
  {
   "cell_type": "code",
   "execution_count": 124,
   "id": "9379f229",
   "metadata": {},
   "outputs": [
    {
     "data": {
      "image/png": "[encoded data removed]",
      "text/plain": [
       "<Figure size 500x400 with 1 Axes>"
      ]
     },
     "metadata": {},
     "output_type": "display_data"
    }
   ],
   "source": [
    "plt.figure(figsize= (5,4))\n",
    "sns.countplot(data = df_final, x = 'is_fake', palette = 'muted')\n",
    "plt.show()"
   ]
  },
  {
   "cell_type": "code",
   "execution_count": 125,
   "id": "4e3ae547",
   "metadata": {},
   "outputs": [],
   "source": [
    "df_final.drop(['date'], axis = 1, inplace = True)"
   ]
  },
  {
   "cell_type": "code",
   "execution_count": 126,
   "id": "0eb762da",
   "metadata": {},
   "outputs": [
    {
     "data": {
      "text/html": [
       "<div>\n",
       "<style scoped>\n",
       "    .dataframe tbody tr th:only-of-type {\n",
       "        vertical-align: middle;\n",
       "    }\n",
       "\n",
       "    .dataframe tbody tr th {\n",
       "        vertical-align: top;\n",
       "    }\n",
       "\n",
       "    .dataframe thead th {\n",
       "        text-align: right;\n",
       "    }\n",
       "</style>\n",
       "<table border=\"1\" class=\"dataframe\">\n",
       "  <thead>\n",
       "    <tr style=\"text-align: right;\">\n",
       "      <th></th>\n",
       "      <th>title</th>\n",
       "      <th>text</th>\n",
       "      <th>subject</th>\n",
       "      <th>is_fake</th>\n",
       "    </tr>\n",
       "  </thead>\n",
       "  <tbody>\n",
       "    <tr>\n",
       "      <th>0</th>\n",
       "      <td>As U.S. budget fight looms, Republicans flip t...</td>\n",
       "      <td>WASHINGTON (Reuters) - The head of a conservat...</td>\n",
       "      <td>politicsNews</td>\n",
       "      <td>0</td>\n",
       "    </tr>\n",
       "    <tr>\n",
       "      <th>1</th>\n",
       "      <td>U.S. military to accept transgender recruits o...</td>\n",
       "      <td>WASHINGTON (Reuters) - Transgender people will...</td>\n",
       "      <td>politicsNews</td>\n",
       "      <td>0</td>\n",
       "    </tr>\n",
       "    <tr>\n",
       "      <th>2</th>\n",
       "      <td>Senior U.S. Republican senator: 'Let Mr. Muell...</td>\n",
       "      <td>WASHINGTON (Reuters) - The special counsel inv...</td>\n",
       "      <td>politicsNews</td>\n",
       "      <td>0</td>\n",
       "    </tr>\n",
       "    <tr>\n",
       "      <th>3</th>\n",
       "      <td>FBI Russia probe helped by Australian diplomat...</td>\n",
       "      <td>WASHINGTON (Reuters) - Trump campaign adviser ...</td>\n",
       "      <td>politicsNews</td>\n",
       "      <td>0</td>\n",
       "    </tr>\n",
       "    <tr>\n",
       "      <th>4</th>\n",
       "      <td>Trump wants Postal Service to charge 'much mor...</td>\n",
       "      <td>SEATTLE/WASHINGTON (Reuters) - President Donal...</td>\n",
       "      <td>politicsNews</td>\n",
       "      <td>0</td>\n",
       "    </tr>\n",
       "  </tbody>\n",
       "</table>\n",
       "</div>"
      ],
      "text/plain": [
       "                                               title  \\\n",
       "0  As U.S. budget fight looms, Republicans flip t...   \n",
       "1  U.S. military to accept transgender recruits o...   \n",
       "2  Senior U.S. Republican senator: 'Let Mr. Muell...   \n",
       "3  FBI Russia probe helped by Australian diplomat...   \n",
       "4  Trump wants Postal Service to charge 'much mor...   \n",
       "\n",
       "                                                text       subject  is_fake  \n",
       "0  WASHINGTON (Reuters) - The head of a conservat...  politicsNews        0  \n",
       "1  WASHINGTON (Reuters) - Transgender people will...  politicsNews        0  \n",
       "2  WASHINGTON (Reuters) - The special counsel inv...  politicsNews        0  \n",
       "3  WASHINGTON (Reuters) - Trump campaign adviser ...  politicsNews        0  \n",
       "4  SEATTLE/WASHINGTON (Reuters) - President Donal...  politicsNews        0  "
      ]
     },
     "execution_count": 126,
     "metadata": {},
     "output_type": "execute_result"
    }
   ],
   "source": [
    "df_final.head()"
   ]
  },
  {
   "cell_type": "markdown",
   "id": "d1ae1342",
   "metadata": {},
   "source": [
    "#### We would be making the use of Missingno library from python. It is a very good graphical representation of missing values in our data. We see that there are many missing values in all data"
   ]
  },
  {
   "cell_type": "code",
   "execution_count": 127,
   "id": "b6ce6b8c",
   "metadata": {},
   "outputs": [],
   "source": [
    "import string\n",
    "import wordcloud\n",
    "import missingno as msno"
   ]
  },
  {
   "cell_type": "code",
   "execution_count": 128,
   "id": "b526ff73",
   "metadata": {},
   "outputs": [
    {
     "data": {
      "text/plain": [
       "<Figure size 300x300 with 0 Axes>"
      ]
     },
     "metadata": {},
     "output_type": "display_data"
    },
    {
     "data": {
      "image/png": "[encoded data removed]",
      "text/plain": [
       "<Figure size 2500x1000 with 2 Axes>"
      ]
     },
     "metadata": {},
     "output_type": "display_data"
    }
   ],
   "source": [
    "plt.figure(figsize=(3,3))\n",
    "msno.matrix(df_final, color = (0.5, 0.5, 0.6))\n",
    "plt.show()"
   ]
  },
  {
   "cell_type": "code",
   "execution_count": 130,
   "id": "c2d462ba",
   "metadata": {},
   "outputs": [
    {
     "name": "stderr",
     "output_type": "stream",
     "text": [
      "[nltk_data] Downloading package wordnet to\n",
      "[nltk_data]     C:\\Users\\dolla\\AppData\\Roaming\\nltk_data...\n",
      "[nltk_data]   Package wordnet is already up-to-date!\n",
      "[nltk_data] Downloading package stopwords to\n",
      "[nltk_data]     C:\\Users\\dolla\\AppData\\Roaming\\nltk_data...\n",
      "[nltk_data]   Package stopwords is already up-to-date!\n"
     ]
    }
   ],
   "source": [
    "import nltk\n",
    "from nltk.corpus import stopwords\n",
    "from nltk.stem import WordNetLemmatizer\n",
    "\n",
    "# Download required NLTK resources\n",
    "nltk.download('wordnet')\n",
    "nltk.download('stopwords')\n",
    "\n",
    "# Load English stopwords\n",
    "english_stopwords = set(stopwords.words('english'))"
   ]
  },
  {
   "cell_type": "code",
   "execution_count": 131,
   "id": "8d60be83",
   "metadata": {},
   "outputs": [],
   "source": [
    "english_stopwords = stopwords.words('english')"
   ]
  },
  {
   "cell_type": "code",
   "execution_count": 132,
   "id": "923df290",
   "metadata": {},
   "outputs": [
    {
     "data": {
      "text/plain": [
       "['i', 'me', 'my', 'myself', 'we', 'our', 'ours', 'ourselves', 'you', \"you're\"]"
      ]
     },
     "execution_count": 132,
     "metadata": {},
     "output_type": "execute_result"
    }
   ],
   "source": [
    "# Printing the first 10 stopwords we are using in english\n",
    "english_stopwords[0: 10]"
   ]
  },
  {
   "cell_type": "code",
   "execution_count": 133,
   "id": "a066d47b",
   "metadata": {},
   "outputs": [
    {
     "name": "stdout",
     "output_type": "stream",
     "text": [
      "<class 'pandas.core.frame.DataFrame'>\n",
      "RangeIndex: 44894 entries, 0 to 44893\n",
      "Data columns (total 4 columns):\n",
      " #   Column   Non-Null Count  Dtype \n",
      "---  ------   --------------  ----- \n",
      " 0   title    44894 non-null  object\n",
      " 1   text     44894 non-null  object\n",
      " 2   subject  44894 non-null  object\n",
      " 3   is_fake  44894 non-null  int64 \n",
      "dtypes: int64(1), object(3)\n",
      "memory usage: 1.4+ MB\n"
     ]
    }
   ],
   "source": [
    "df_final.info()"
   ]
  },
  {
   "cell_type": "code",
   "execution_count": 134,
   "id": "3e4c4171",
   "metadata": {},
   "outputs": [
    {
     "data": {
      "text/plain": [
       "<wordcloud.wordcloud.WordCloud at 0x21305d8cf40>"
      ]
     },
     "execution_count": 134,
     "metadata": {},
     "output_type": "execute_result"
    }
   ],
   "source": [
    "wordcloud.WordCloud()"
   ]
  },
  {
   "cell_type": "markdown",
   "id": "0c96bfb2",
   "metadata": {},
   "source": [
    "The primary goal of the text_preprocessor function is to prepare raw text data by removing unnecessary elements and standardizing the text. This process makes the text data more suitable for further processing.\n",
    "\n",
    "🌟 The `text_preprocessor` function cleans text data by:\n",
    "- Removing punctuation,\n",
    "- Converting words to lowercase,\n",
    "- Lemmatizing words to their base form,\n",
    "- Removing common stopwords,\n",
    "- Reassembling the cleaned words into a single string.\n",
    "\n",
    "\n"
   ]
  },
  {
   "cell_type": "code",
   "execution_count": 135,
   "id": "bb44889a",
   "metadata": {},
   "outputs": [],
   "source": [
    "def text_preprocessor(text):\n",
    "    \n",
    "    text_preprocessed = []\n",
    "    text = text.translate(str.maketrans('', '', string.punctuation)) # Removes punctuations\n",
    "    for word in text.split(' '): # Splits the text into words\n",
    "        # print(word)\n",
    "        word = word.lower()\n",
    "        lemmatizer = WordNetLemmatizer()\n",
    "        word = lemmatizer.lemmatize(word)\n",
    "        if word not in english_stopwords:\n",
    "            text_preprocessed.append(word)\n",
    "    text_preprocessed = ' '.join(text_preprocessed)\n",
    "    return text_preprocessed"
   ]
  },
  {
   "cell_type": "code",
   "execution_count": 136,
   "id": "b54de501",
   "metadata": {},
   "outputs": [
    {
     "data": {
      "text/html": [
       "<div>\n",
       "<style scoped>\n",
       "    .dataframe tbody tr th:only-of-type {\n",
       "        vertical-align: middle;\n",
       "    }\n",
       "\n",
       "    .dataframe tbody tr th {\n",
       "        vertical-align: top;\n",
       "    }\n",
       "\n",
       "    .dataframe thead th {\n",
       "        text-align: right;\n",
       "    }\n",
       "</style>\n",
       "<table border=\"1\" class=\"dataframe\">\n",
       "  <thead>\n",
       "    <tr style=\"text-align: right;\">\n",
       "      <th></th>\n",
       "      <th>title</th>\n",
       "      <th>text</th>\n",
       "      <th>subject</th>\n",
       "      <th>is_fake</th>\n",
       "    </tr>\n",
       "  </thead>\n",
       "  <tbody>\n",
       "    <tr>\n",
       "      <th>0</th>\n",
       "      <td>As U.S. budget fight looms, Republicans flip t...</td>\n",
       "      <td>WASHINGTON (Reuters) - The head of a conservat...</td>\n",
       "      <td>politicsNews</td>\n",
       "      <td>0</td>\n",
       "    </tr>\n",
       "    <tr>\n",
       "      <th>1</th>\n",
       "      <td>U.S. military to accept transgender recruits o...</td>\n",
       "      <td>WASHINGTON (Reuters) - Transgender people will...</td>\n",
       "      <td>politicsNews</td>\n",
       "      <td>0</td>\n",
       "    </tr>\n",
       "    <tr>\n",
       "      <th>2</th>\n",
       "      <td>Senior U.S. Republican senator: 'Let Mr. Muell...</td>\n",
       "      <td>WASHINGTON (Reuters) - The special counsel inv...</td>\n",
       "      <td>politicsNews</td>\n",
       "      <td>0</td>\n",
       "    </tr>\n",
       "    <tr>\n",
       "      <th>3</th>\n",
       "      <td>FBI Russia probe helped by Australian diplomat...</td>\n",
       "      <td>WASHINGTON (Reuters) - Trump campaign adviser ...</td>\n",
       "      <td>politicsNews</td>\n",
       "      <td>0</td>\n",
       "    </tr>\n",
       "    <tr>\n",
       "      <th>4</th>\n",
       "      <td>Trump wants Postal Service to charge 'much mor...</td>\n",
       "      <td>SEATTLE/WASHINGTON (Reuters) - President Donal...</td>\n",
       "      <td>politicsNews</td>\n",
       "      <td>0</td>\n",
       "    </tr>\n",
       "  </tbody>\n",
       "</table>\n",
       "</div>"
      ],
      "text/plain": [
       "                                               title  \\\n",
       "0  As U.S. budget fight looms, Republicans flip t...   \n",
       "1  U.S. military to accept transgender recruits o...   \n",
       "2  Senior U.S. Republican senator: 'Let Mr. Muell...   \n",
       "3  FBI Russia probe helped by Australian diplomat...   \n",
       "4  Trump wants Postal Service to charge 'much mor...   \n",
       "\n",
       "                                                text       subject  is_fake  \n",
       "0  WASHINGTON (Reuters) - The head of a conservat...  politicsNews        0  \n",
       "1  WASHINGTON (Reuters) - Transgender people will...  politicsNews        0  \n",
       "2  WASHINGTON (Reuters) - The special counsel inv...  politicsNews        0  \n",
       "3  WASHINGTON (Reuters) - Trump campaign adviser ...  politicsNews        0  \n",
       "4  SEATTLE/WASHINGTON (Reuters) - President Donal...  politicsNews        0  "
      ]
     },
     "execution_count": 136,
     "metadata": {},
     "output_type": "execute_result"
    }
   ],
   "source": [
    "df_final.head()"
   ]
  },
  {
   "cell_type": "markdown",
   "id": "d94f1136",
   "metadata": {},
   "source": [
    "#### Let's Apply the text processing to the `title` column"
   ]
  },
  {
   "cell_type": "code",
   "execution_count": 139,
   "id": "4d7d8843",
   "metadata": {},
   "outputs": [],
   "source": [
    "df_final['title preprocessed'] = df_final['title'].apply(text_preprocessor)"
   ]
  },
  {
   "cell_type": "code",
   "execution_count": 140,
   "id": "81171403",
   "metadata": {},
   "outputs": [
    {
     "data": {
      "text/html": [
       "<div>\n",
       "<style scoped>\n",
       "    .dataframe tbody tr th:only-of-type {\n",
       "        vertical-align: middle;\n",
       "    }\n",
       "\n",
       "    .dataframe tbody tr th {\n",
       "        vertical-align: top;\n",
       "    }\n",
       "\n",
       "    .dataframe thead th {\n",
       "        text-align: right;\n",
       "    }\n",
       "</style>\n",
       "<table border=\"1\" class=\"dataframe\">\n",
       "  <thead>\n",
       "    <tr style=\"text-align: right;\">\n",
       "      <th></th>\n",
       "      <th>title</th>\n",
       "      <th>text</th>\n",
       "      <th>subject</th>\n",
       "      <th>is_fake</th>\n",
       "      <th>title preprocessed</th>\n",
       "    </tr>\n",
       "  </thead>\n",
       "  <tbody>\n",
       "    <tr>\n",
       "      <th>0</th>\n",
       "      <td>As U.S. budget fight looms, Republicans flip t...</td>\n",
       "      <td>WASHINGTON (Reuters) - The head of a conservat...</td>\n",
       "      <td>politicsNews</td>\n",
       "      <td>0</td>\n",
       "      <td>u budget fight loom republican flip fiscal script</td>\n",
       "    </tr>\n",
       "    <tr>\n",
       "      <th>1</th>\n",
       "      <td>U.S. military to accept transgender recruits o...</td>\n",
       "      <td>WASHINGTON (Reuters) - Transgender people will...</td>\n",
       "      <td>politicsNews</td>\n",
       "      <td>0</td>\n",
       "      <td>u military accept transgender recruit monday p...</td>\n",
       "    </tr>\n",
       "    <tr>\n",
       "      <th>2</th>\n",
       "      <td>Senior U.S. Republican senator: 'Let Mr. Muell...</td>\n",
       "      <td>WASHINGTON (Reuters) - The special counsel inv...</td>\n",
       "      <td>politicsNews</td>\n",
       "      <td>0</td>\n",
       "      <td>senior u republican senator let mr mueller job</td>\n",
       "    </tr>\n",
       "    <tr>\n",
       "      <th>3</th>\n",
       "      <td>FBI Russia probe helped by Australian diplomat...</td>\n",
       "      <td>WASHINGTON (Reuters) - Trump campaign adviser ...</td>\n",
       "      <td>politicsNews</td>\n",
       "      <td>0</td>\n",
       "      <td>fbi russia probe helped australian diplomat ti...</td>\n",
       "    </tr>\n",
       "    <tr>\n",
       "      <th>4</th>\n",
       "      <td>Trump wants Postal Service to charge 'much mor...</td>\n",
       "      <td>SEATTLE/WASHINGTON (Reuters) - President Donal...</td>\n",
       "      <td>politicsNews</td>\n",
       "      <td>0</td>\n",
       "      <td>trump want postal service charge much amazon s...</td>\n",
       "    </tr>\n",
       "  </tbody>\n",
       "</table>\n",
       "</div>"
      ],
      "text/plain": [
       "                                               title  \\\n",
       "0  As U.S. budget fight looms, Republicans flip t...   \n",
       "1  U.S. military to accept transgender recruits o...   \n",
       "2  Senior U.S. Republican senator: 'Let Mr. Muell...   \n",
       "3  FBI Russia probe helped by Australian diplomat...   \n",
       "4  Trump wants Postal Service to charge 'much mor...   \n",
       "\n",
       "                                                text       subject  is_fake  \\\n",
       "0  WASHINGTON (Reuters) - The head of a conservat...  politicsNews        0   \n",
       "1  WASHINGTON (Reuters) - Transgender people will...  politicsNews        0   \n",
       "2  WASHINGTON (Reuters) - The special counsel inv...  politicsNews        0   \n",
       "3  WASHINGTON (Reuters) - Trump campaign adviser ...  politicsNews        0   \n",
       "4  SEATTLE/WASHINGTON (Reuters) - President Donal...  politicsNews        0   \n",
       "\n",
       "                                  title preprocessed  \n",
       "0  u budget fight loom republican flip fiscal script  \n",
       "1  u military accept transgender recruit monday p...  \n",
       "2     senior u republican senator let mr mueller job  \n",
       "3  fbi russia probe helped australian diplomat ti...  \n",
       "4  trump want postal service charge much amazon s...  "
      ]
     },
     "execution_count": 140,
     "metadata": {},
     "output_type": "execute_result"
    }
   ],
   "source": [
    "df_final.head()"
   ]
  },
  {
   "cell_type": "code",
   "execution_count": 141,
   "id": "336a2213",
   "metadata": {},
   "outputs": [],
   "source": [
    "#### Let's Apply the text processing to the `text` column"
   ]
  },
  {
   "cell_type": "code",
   "execution_count": 142,
   "id": "dfd08284",
   "metadata": {},
   "outputs": [],
   "source": [
    "# This cell can take a long time as we are preprocessing the entire text document\n",
    "# It can execute in about 2-5 minutes\n",
    "df_final['text preprocessed'] = df_final['text'].apply(text_preprocessor)"
   ]
  },
  {
   "cell_type": "code",
   "execution_count": 143,
   "id": "a2ca79b6",
   "metadata": {},
   "outputs": [
    {
     "data": {
      "text/html": [
       "<div>\n",
       "<style scoped>\n",
       "    .dataframe tbody tr th:only-of-type {\n",
       "        vertical-align: middle;\n",
       "    }\n",
       "\n",
       "    .dataframe tbody tr th {\n",
       "        vertical-align: top;\n",
       "    }\n",
       "\n",
       "    .dataframe thead th {\n",
       "        text-align: right;\n",
       "    }\n",
       "</style>\n",
       "<table border=\"1\" class=\"dataframe\">\n",
       "  <thead>\n",
       "    <tr style=\"text-align: right;\">\n",
       "      <th></th>\n",
       "      <th>title</th>\n",
       "      <th>text</th>\n",
       "      <th>subject</th>\n",
       "      <th>is_fake</th>\n",
       "      <th>title preprocessed</th>\n",
       "      <th>text preprocessed</th>\n",
       "    </tr>\n",
       "  </thead>\n",
       "  <tbody>\n",
       "    <tr>\n",
       "      <th>0</th>\n",
       "      <td>As U.S. budget fight looms, Republicans flip t...</td>\n",
       "      <td>WASHINGTON (Reuters) - The head of a conservat...</td>\n",
       "      <td>politicsNews</td>\n",
       "      <td>0</td>\n",
       "      <td>u budget fight loom republican flip fiscal script</td>\n",
       "      <td>washington reuters  head conservative republic...</td>\n",
       "    </tr>\n",
       "    <tr>\n",
       "      <th>1</th>\n",
       "      <td>U.S. military to accept transgender recruits o...</td>\n",
       "      <td>WASHINGTON (Reuters) - Transgender people will...</td>\n",
       "      <td>politicsNews</td>\n",
       "      <td>0</td>\n",
       "      <td>u military accept transgender recruit monday p...</td>\n",
       "      <td>washington reuters  transgender people allowed...</td>\n",
       "    </tr>\n",
       "    <tr>\n",
       "      <th>2</th>\n",
       "      <td>Senior U.S. Republican senator: 'Let Mr. Muell...</td>\n",
       "      <td>WASHINGTON (Reuters) - The special counsel inv...</td>\n",
       "      <td>politicsNews</td>\n",
       "      <td>0</td>\n",
       "      <td>senior u republican senator let mr mueller job</td>\n",
       "      <td>washington reuters  special counsel investigat...</td>\n",
       "    </tr>\n",
       "    <tr>\n",
       "      <th>3</th>\n",
       "      <td>FBI Russia probe helped by Australian diplomat...</td>\n",
       "      <td>WASHINGTON (Reuters) - Trump campaign adviser ...</td>\n",
       "      <td>politicsNews</td>\n",
       "      <td>0</td>\n",
       "      <td>fbi russia probe helped australian diplomat ti...</td>\n",
       "      <td>washington reuters  trump campaign adviser geo...</td>\n",
       "    </tr>\n",
       "    <tr>\n",
       "      <th>4</th>\n",
       "      <td>Trump wants Postal Service to charge 'much mor...</td>\n",
       "      <td>SEATTLE/WASHINGTON (Reuters) - President Donal...</td>\n",
       "      <td>politicsNews</td>\n",
       "      <td>0</td>\n",
       "      <td>trump want postal service charge much amazon s...</td>\n",
       "      <td>seattlewashington reuters  president donald tr...</td>\n",
       "    </tr>\n",
       "  </tbody>\n",
       "</table>\n",
       "</div>"
      ],
      "text/plain": [
       "                                               title  \\\n",
       "0  As U.S. budget fight looms, Republicans flip t...   \n",
       "1  U.S. military to accept transgender recruits o...   \n",
       "2  Senior U.S. Republican senator: 'Let Mr. Muell...   \n",
       "3  FBI Russia probe helped by Australian diplomat...   \n",
       "4  Trump wants Postal Service to charge 'much mor...   \n",
       "\n",
       "                                                text       subject  is_fake  \\\n",
       "0  WASHINGTON (Reuters) - The head of a conservat...  politicsNews        0   \n",
       "1  WASHINGTON (Reuters) - Transgender people will...  politicsNews        0   \n",
       "2  WASHINGTON (Reuters) - The special counsel inv...  politicsNews        0   \n",
       "3  WASHINGTON (Reuters) - Trump campaign adviser ...  politicsNews        0   \n",
       "4  SEATTLE/WASHINGTON (Reuters) - President Donal...  politicsNews        0   \n",
       "\n",
       "                                  title preprocessed  \\\n",
       "0  u budget fight loom republican flip fiscal script   \n",
       "1  u military accept transgender recruit monday p...   \n",
       "2     senior u republican senator let mr mueller job   \n",
       "3  fbi russia probe helped australian diplomat ti...   \n",
       "4  trump want postal service charge much amazon s...   \n",
       "\n",
       "                                   text preprocessed  \n",
       "0  washington reuters  head conservative republic...  \n",
       "1  washington reuters  transgender people allowed...  \n",
       "2  washington reuters  special counsel investigat...  \n",
       "3  washington reuters  trump campaign adviser geo...  \n",
       "4  seattlewashington reuters  president donald tr...  "
      ]
     },
     "execution_count": 143,
     "metadata": {},
     "output_type": "execute_result"
    }
   ],
   "source": [
    "df_final.head()"
   ]
  },
  {
   "cell_type": "code",
   "execution_count": 144,
   "id": "792ef608",
   "metadata": {},
   "outputs": [],
   "source": [
    "df_final.drop(['title', 'text'], axis = 1, inplace = True)"
   ]
  },
  {
   "cell_type": "code",
   "execution_count": 145,
   "id": "aab09ea3",
   "metadata": {},
   "outputs": [
    {
     "data": {
      "text/html": [
       "<div>\n",
       "<style scoped>\n",
       "    .dataframe tbody tr th:only-of-type {\n",
       "        vertical-align: middle;\n",
       "    }\n",
       "\n",
       "    .dataframe tbody tr th {\n",
       "        vertical-align: top;\n",
       "    }\n",
       "\n",
       "    .dataframe thead th {\n",
       "        text-align: right;\n",
       "    }\n",
       "</style>\n",
       "<table border=\"1\" class=\"dataframe\">\n",
       "  <thead>\n",
       "    <tr style=\"text-align: right;\">\n",
       "      <th></th>\n",
       "      <th>subject</th>\n",
       "      <th>is_fake</th>\n",
       "      <th>title preprocessed</th>\n",
       "      <th>text preprocessed</th>\n",
       "    </tr>\n",
       "  </thead>\n",
       "  <tbody>\n",
       "    <tr>\n",
       "      <th>0</th>\n",
       "      <td>politicsNews</td>\n",
       "      <td>0</td>\n",
       "      <td>u budget fight loom republican flip fiscal script</td>\n",
       "      <td>washington reuters  head conservative republic...</td>\n",
       "    </tr>\n",
       "    <tr>\n",
       "      <th>1</th>\n",
       "      <td>politicsNews</td>\n",
       "      <td>0</td>\n",
       "      <td>u military accept transgender recruit monday p...</td>\n",
       "      <td>washington reuters  transgender people allowed...</td>\n",
       "    </tr>\n",
       "    <tr>\n",
       "      <th>2</th>\n",
       "      <td>politicsNews</td>\n",
       "      <td>0</td>\n",
       "      <td>senior u republican senator let mr mueller job</td>\n",
       "      <td>washington reuters  special counsel investigat...</td>\n",
       "    </tr>\n",
       "    <tr>\n",
       "      <th>3</th>\n",
       "      <td>politicsNews</td>\n",
       "      <td>0</td>\n",
       "      <td>fbi russia probe helped australian diplomat ti...</td>\n",
       "      <td>washington reuters  trump campaign adviser geo...</td>\n",
       "    </tr>\n",
       "    <tr>\n",
       "      <th>4</th>\n",
       "      <td>politicsNews</td>\n",
       "      <td>0</td>\n",
       "      <td>trump want postal service charge much amazon s...</td>\n",
       "      <td>seattlewashington reuters  president donald tr...</td>\n",
       "    </tr>\n",
       "  </tbody>\n",
       "</table>\n",
       "</div>"
      ],
      "text/plain": [
       "        subject  is_fake                                 title preprocessed  \\\n",
       "0  politicsNews        0  u budget fight loom republican flip fiscal script   \n",
       "1  politicsNews        0  u military accept transgender recruit monday p...   \n",
       "2  politicsNews        0     senior u republican senator let mr mueller job   \n",
       "3  politicsNews        0  fbi russia probe helped australian diplomat ti...   \n",
       "4  politicsNews        0  trump want postal service charge much amazon s...   \n",
       "\n",
       "                                   text preprocessed  \n",
       "0  washington reuters  head conservative republic...  \n",
       "1  washington reuters  transgender people allowed...  \n",
       "2  washington reuters  special counsel investigat...  \n",
       "3  washington reuters  trump campaign adviser geo...  \n",
       "4  seattlewashington reuters  president donald tr...  "
      ]
     },
     "execution_count": 145,
     "metadata": {},
     "output_type": "execute_result"
    }
   ],
   "source": [
    "df_final.head()"
   ]
  },
  {
   "cell_type": "markdown",
   "id": "fec124b9",
   "metadata": {},
   "source": [
    "#### Now let's filter and separate the data from a DataFrame df_final based on a specific condition fake or true"
   ]
  },
  {
   "cell_type": "code",
   "execution_count": 146,
   "id": "a7e33593",
   "metadata": {},
   "outputs": [],
   "source": [
    "fake_news = df_final[df_final.is_fake == 1]['title preprocessed']\n",
    "true_news = df_final[df_final.is_fake == 0]['title preprocessed']"
   ]
  },
  {
   "cell_type": "code",
   "execution_count": 148,
   "id": "10212825",
   "metadata": {},
   "outputs": [
    {
     "data": {
      "text/plain": [
       "0    u budget fight loom republican flip fiscal script\n",
       "1    u military accept transgender recruit monday p...\n",
       "2       senior u republican senator let mr mueller job\n",
       "3    fbi russia probe helped australian diplomat ti...\n",
       "4    trump want postal service charge much amazon s...\n",
       "Name: title preprocessed, dtype: object"
      ]
     },
     "execution_count": 148,
     "metadata": {},
     "output_type": "execute_result"
    }
   ],
   "source": [
    "true_news.head()"
   ]
  },
  {
   "cell_type": "code",
   "execution_count": 154,
   "id": "e91920ec",
   "metadata": {},
   "outputs": [],
   "source": [
    "#Concatenating Fake News Titles\n",
    "fake_news_title = ''.join(fake_news.to_list())\n",
    "# Concatenating True News Titles\n",
    "true_news_title = ''.join(true_news.to_list())\n",
    "\n",
    "# this will help us for Word Cloud Generation: Generating word clouds from all titles combined."
   ]
  },
  {
   "cell_type": "code",
   "execution_count": 151,
   "id": "d61d2bdb",
   "metadata": {},
   "outputs": [
    {
     "data": {
      "image/png": "[encoded data removed]",
      "text/plain": [
       "<Figure size 640x480 with 1 Axes>"
      ]
     },
     "metadata": {},
     "output_type": "display_data"
    }
   ],
   "source": [
    "# Fake News Titles\n",
    "word_cloud = wordcloud.WordCloud().generate(fake_news_title)\n",
    "plt.imshow(word_cloud, interpolation = 'bilinear')\n",
    "plt.show()"
   ]
  },
  {
   "cell_type": "code",
   "execution_count": 153,
   "id": "c69bbd5d",
   "metadata": {},
   "outputs": [
    {
     "data": {
      "image/png": "[encoded data removed]",
      "text/plain": [
       "<Figure size 640x480 with 1 Axes>"
      ]
     },
     "metadata": {},
     "output_type": "display_data"
    }
   ],
   "source": [
    "# True News Titles\n",
    "word_cloud = wordcloud.WordCloud().generate(true_news_title)\n",
    "plt.imshow(word_cloud, interpolation = 'bilinear')\n",
    "plt.show()"
   ]
  },
  {
   "cell_type": "markdown",
   "id": "a0bdff2a",
   "metadata": {},
   "source": [
    "## Encoding Techniques"
   ]
  },
  {
   "cell_type": "markdown",
   "id": "c403d2fa",
   "metadata": {},
   "source": [
    "### Bag of Words (BOW)"
   ]
  },
  {
   "cell_type": "code",
   "execution_count": 160,
   "id": "956b88bd",
   "metadata": {},
   "outputs": [],
   "source": [
    "X = df_final.drop(['is_fake'], axis = 1)\n",
    "y = df_final['is_fake']"
   ]
  },
  {
   "cell_type": "code",
   "execution_count": 163,
   "id": "4cd1f506",
   "metadata": {},
   "outputs": [
    {
     "data": {
      "text/plain": [
       "0    0\n",
       "1    0\n",
       "2    0\n",
       "3    0\n",
       "4    0\n",
       "Name: is_fake, dtype: int64"
      ]
     },
     "execution_count": 163,
     "metadata": {},
     "output_type": "execute_result"
    }
   ],
   "source": [
    "y.head()\n"
   ]
  },
  {
   "cell_type": "markdown",
   "id": "de1e2019",
   "metadata": {},
   "source": [
    "#### Let's split the data to Training and Testing\n",
    "\n",
    "- train_test_split: Splits the dataset into training (70%) and testing (30%) subsets.\n",
    "- random_state=101: This is a seed for the random number generator used to shuffle the data before splitting and Ensures reproducibility.\n",
    "\n",
    "\n",
    "- Training Set: Used to train the model.\n",
    "- Test Set: Used to evaluate model performance on unseen data."
   ]
  },
  {
   "cell_type": "code",
   "execution_count": 164,
   "id": "4283c4b5",
   "metadata": {},
   "outputs": [],
   "source": [
    "X_train, X_test, y_train, y_test = train_test_split(X, y, test_size = 0.3, random_state = 101)"
   ]
  },
  {
   "cell_type": "code",
   "execution_count": 165,
   "id": "f4567fa0",
   "metadata": {},
   "outputs": [
    {
     "name": "stdout",
     "output_type": "stream",
     "text": [
      "The shape of training input data: (31425, 3)\n",
      "The shape of testing input data: (13469, 3)\n",
      "The shape of training output data: (31425,)\n",
      "The shape of testing output data: (13469,)\n"
     ]
    }
   ],
   "source": [
    "print(\"The shape of training input data: {}\".format(X_train.shape))\n",
    "print(\"The shape of testing input data: {}\".format(X_test.shape))\n",
    "print(\"The shape of training output data: {}\".format(y_train.shape))\n",
    "print(\"The shape of testing output data: {}\".format(y_test.shape))"
   ]
  },
  {
   "cell_type": "code",
   "execution_count": 167,
   "id": "a8be8b10",
   "metadata": {},
   "outputs": [
    {
     "data": {
      "text/html": [
       "<div>\n",
       "<style scoped>\n",
       "    .dataframe tbody tr th:only-of-type {\n",
       "        vertical-align: middle;\n",
       "    }\n",
       "\n",
       "    .dataframe tbody tr th {\n",
       "        vertical-align: top;\n",
       "    }\n",
       "\n",
       "    .dataframe thead th {\n",
       "        text-align: right;\n",
       "    }\n",
       "</style>\n",
       "<table border=\"1\" class=\"dataframe\">\n",
       "  <thead>\n",
       "    <tr style=\"text-align: right;\">\n",
       "      <th></th>\n",
       "      <th>subject</th>\n",
       "      <th>title preprocessed</th>\n",
       "      <th>text preprocessed</th>\n",
       "    </tr>\n",
       "  </thead>\n",
       "  <tbody>\n",
       "    <tr>\n",
       "      <th>23367</th>\n",
       "      <td>News</td>\n",
       "      <td>rep ted lieu ha response sean spicer’s daily l...</td>\n",
       "      <td>rep ted lieu dca one loudest steadfast member ...</td>\n",
       "    </tr>\n",
       "    <tr>\n",
       "      <th>32550</th>\n",
       "      <td>politics</td>\n",
       "      <td>holy moly rebel medium uncovers illegal usacan...</td>\n",
       "      <td>never guess mainstream tv network right around...</td>\n",
       "    </tr>\n",
       "    <tr>\n",
       "      <th>11585</th>\n",
       "      <td>worldnews</td>\n",
       "      <td>u envoy say expects russia maintain big presen...</td>\n",
       "      <td>washington reuters  russia likely maintain big...</td>\n",
       "    </tr>\n",
       "    <tr>\n",
       "      <th>38199</th>\n",
       "      <td>Government News</td>\n",
       "      <td>breaking obama’s “director diversity” donates ...</td>\n",
       "      <td>course anyone obama  team fundamental transfor...</td>\n",
       "    </tr>\n",
       "    <tr>\n",
       "      <th>25739</th>\n",
       "      <td>News</td>\n",
       "      <td>florida governor us hurricane matthew excuse t...</td>\n",
       "      <td>florida republican governor rick scott allowin...</td>\n",
       "    </tr>\n",
       "  </tbody>\n",
       "</table>\n",
       "</div>"
      ],
      "text/plain": [
       "               subject                                 title preprocessed  \\\n",
       "23367             News  rep ted lieu ha response sean spicer’s daily l...   \n",
       "32550         politics  holy moly rebel medium uncovers illegal usacan...   \n",
       "11585        worldnews  u envoy say expects russia maintain big presen...   \n",
       "38199  Government News  breaking obama’s “director diversity” donates ...   \n",
       "25739             News  florida governor us hurricane matthew excuse t...   \n",
       "\n",
       "                                       text preprocessed  \n",
       "23367  rep ted lieu dca one loudest steadfast member ...  \n",
       "32550  never guess mainstream tv network right around...  \n",
       "11585  washington reuters  russia likely maintain big...  \n",
       "38199  course anyone obama  team fundamental transfor...  \n",
       "25739  florida republican governor rick scott allowin...  "
      ]
     },
     "execution_count": 167,
     "metadata": {},
     "output_type": "execute_result"
    }
   ],
   "source": [
    "X_train.head()"
   ]
  },
  {
   "cell_type": "markdown",
   "id": "78acfffc",
   "metadata": {},
   "source": [
    "#### Bag of Words (BoW)\n",
    "- The code snippet you provided is used for converting text data into a numerical format that can be fed into machine learning models. It uses a text vectorization technique called Bag of Words (BoW).\n",
    "\n",
    "Purpose:\n",
    "- Feature Extraction: Converts raw text data into a numerical format suitable for machine learning models.\n",
    "- Training and Testing Consistency: Ensures that the test data is transformed using the same vocabulary and encoding scheme as the training data, which is crucial for model evaluation.\n",
    "- `fit_transform`: Fits the vectorizer on the training data and transforms it.\n",
    "- `Transforms`: Transforms the test data using the fitted vectorizer."
   ]
  },
  {
   "cell_type": "code",
   "execution_count": 168,
   "id": "6290c55f",
   "metadata": {},
   "outputs": [],
   "source": [
    "vectorizer = CountVectorizer()\n",
    "title_train_bow = vectorizer.fit_transform(X_train['title preprocessed'])\n",
    "title_test_bow = vectorizer.transform(X_test['title preprocessed'])\n",
    "\n",
    "text_train_bow = vectorizer.fit_transform(X_train['text preprocessed'])\n",
    "text_test_bow = vectorizer.transform(X_test['text preprocessed'])"
   ]
  },
  {
   "cell_type": "markdown",
   "id": "2262f857",
   "metadata": {},
   "source": [
    "- The hstack function combines these features into a single matrix for both the training and test sets. This allows the model to consider both the 'title' and 'text' features together."
   ]
  },
  {
   "cell_type": "code",
   "execution_count": 170,
   "id": "b8eb8f56",
   "metadata": {},
   "outputs": [],
   "source": [
    "X_train_transformed = hstack((title_train_bow, text_train_bow))\n",
    "X_test_transformed = hstack((title_test_bow, text_test_bow))"
   ]
  },
  {
   "cell_type": "markdown",
   "id": "9bf9f7e0",
   "metadata": {},
   "source": [
    "### Logistic Regression"
   ]
  },
  {
   "cell_type": "code",
   "execution_count": 189,
   "id": "7ba0af87",
   "metadata": {},
   "outputs": [],
   "source": [
    "model = LogisticRegression()\n",
    "model.fit(X_train_transformed, y_train)\n",
    "y_predictions = model.predict(X_test_transformed)"
   ]
  },
  {
   "cell_type": "code",
   "execution_count": 195,
   "id": "74a748ea",
   "metadata": {},
   "outputs": [],
   "source": [
    "error_mean_square = []\n",
    "error_mean_absolute = []"
   ]
  },
  {
   "cell_type": "code",
   "execution_count": 196,
   "id": "b0ede426",
   "metadata": {},
   "outputs": [],
   "source": [
    "from sklearn.metrics import mean_squared_error, mean_absolute_error"
   ]
  },
  {
   "cell_type": "code",
   "execution_count": 172,
   "id": "16098914",
   "metadata": {},
   "outputs": [
    {
     "data": {
      "text/plain": [
       "array([0, 1, 0, ..., 1, 1, 0], dtype=int64)"
      ]
     },
     "execution_count": 172,
     "metadata": {},
     "output_type": "execute_result"
    }
   ],
   "source": [
    "y_predictions"
   ]
  },
  {
   "cell_type": "code",
   "execution_count": 173,
   "id": "403c4aa5",
   "metadata": {},
   "outputs": [
    {
     "data": {
      "text/plain": [
       "0.9965847501670503"
      ]
     },
     "execution_count": 173,
     "metadata": {},
     "output_type": "execute_result"
    }
   ],
   "source": [
    "accuracy_score(y_predictions, y_test)"
   ]
  },
  {
   "cell_type": "markdown",
   "id": "7b371d7d",
   "metadata": {},
   "source": [
    "#### Now Let's use our Model to Predict new data"
   ]
  },
  {
   "cell_type": "code",
   "execution_count": null,
   "id": "b2ddd3e1",
   "metadata": {},
   "outputs": [],
   "source": [
    "import pandas as pd\n",
    "from sklearn.feature_extraction.text import CountVectorizer\n",
    "from scipy.sparse import hstack\n",
    "from sklearn.linear_model import LogisticRegression\n"
   ]
  },
  {
   "cell_type": "code",
   "execution_count": 185,
   "id": "15a8dafc",
   "metadata": {},
   "outputs": [
    {
     "name": "stdout",
     "output_type": "stream",
     "text": [
      "Predictions for new data:\n",
      "Title: trump threatens new sanctions\n",
      "Prediction: Fake\n",
      "\n",
      "Title: new breakthrough in cancer research\n",
      "Prediction: Fake\n",
      "\n"
     ]
    }
   ],
   "source": [
    "\n",
    "# Sample new data\n",
    "new_data = pd.DataFrame({\n",
    "    'title preprocessed': [\n",
    "        'trump threatens new sanctions',\n",
    "        'new breakthrough in cancer research'\n",
    "    ],\n",
    "    'text preprocessed': [\n",
    "        'trump announces possible new sanctions on iran amid rising tensions',\n",
    "        'scientists discover new method to treat cancer using advanced technology'\n",
    "    ]\n",
    "})\n",
    "\n",
    "# Initialize vectorizers\n",
    "title_vectorizer = CountVectorizer()\n",
    "text_vectorizer = CountVectorizer()\n",
    "\n",
    "# Fit vectorizers on training data (use the same vectorizers fitted earlier)\n",
    "title_vectorizer.fit(X_train['title preprocessed'])\n",
    "text_vectorizer.fit(X_train['text preprocessed'])\n",
    "\n",
    "# Transform new data\n",
    "title_new_bow = title_vectorizer.transform(new_data['title preprocessed'])\n",
    "text_new_bow = text_vectorizer.transform(new_data['text preprocessed'])\n",
    "X_new_transformed = hstack((title_new_bow, text_new_bow))\n",
    "\n",
    "# Initialize and train the model (using previously fitted model in practice)\n",
    "model = LogisticRegression()\n",
    "model.fit(X_train_transformed, y_train)\n",
    "\n",
    "# Predict with the trained model\n",
    "new_predictions = model.predict(X_new_transformed)\n",
    "\n",
    "# Print predictions\n",
    "print(\"Predictions for new data:\")\n",
    "for title, prediction in zip(new_data['title preprocessed'], new_predictions):\n",
    "    print(f\"Title: {title}\\nPrediction: {'Fake' if prediction == 1 else 'True'}\\n\")\n"
   ]
  },
  {
   "cell_type": "markdown",
   "id": "ac42e513",
   "metadata": {},
   "source": [
    "### K Neighbors Classifier"
   ]
  },
  {
   "cell_type": "code",
   "execution_count": 186,
   "id": "3553ee34",
   "metadata": {},
   "outputs": [],
   "source": [
    "from sklearn.neighbors import KNeighborsClassifier"
   ]
  },
  {
   "cell_type": "code",
   "execution_count": 187,
   "id": "1be425b0",
   "metadata": {},
   "outputs": [],
   "source": [
    "model = KNeighborsClassifier()\n",
    "model.fit(X_train_transformed, y_train)\n",
    "y_predictions = model.predict(X_test_transformed)"
   ]
  },
  {
   "cell_type": "code",
   "execution_count": 188,
   "id": "e64d94bf",
   "metadata": {},
   "outputs": [
    {
     "name": "stdout",
     "output_type": "stream",
     "text": [
      "0.7696933699606504\n",
      "[[5089 1707]\n",
      " [1395 5278]]\n",
      "              precision    recall  f1-score   support\n",
      "\n",
      "           0       0.78      0.75      0.77      6796\n",
      "           1       0.76      0.79      0.77      6673\n",
      "\n",
      "    accuracy                           0.77     13469\n",
      "   macro avg       0.77      0.77      0.77     13469\n",
      "weighted avg       0.77      0.77      0.77     13469\n",
      "\n"
     ]
    }
   ],
   "source": [
    "print(accuracy_score(y_predictions, y_test))\n",
    "print(confusion_matrix(y_predictions, y_test))\n",
    "print(classification_report(y_predictions, y_test))"
   ]
  },
  {
   "cell_type": "markdown",
   "id": "d78bae14",
   "metadata": {},
   "source": [
    "### Gradient Boosting Classifier"
   ]
  },
  {
   "cell_type": "code",
   "execution_count": 199,
   "id": "d3e2b832",
   "metadata": {},
   "outputs": [],
   "source": [
    "from sklearn.ensemble import GradientBoostingClassifier"
   ]
  },
  {
   "cell_type": "code",
   "execution_count": 200,
   "id": "ed7b3309",
   "metadata": {},
   "outputs": [],
   "source": [
    "model = GradientBoostingClassifier()\n",
    "model.fit(X_train_transformed, y_train)\n",
    "y_predictions = model.predict(X_test_transformed)"
   ]
  },
  {
   "cell_type": "code",
   "execution_count": 201,
   "id": "f9c5a680",
   "metadata": {},
   "outputs": [
    {
     "name": "stdout",
     "output_type": "stream",
     "text": [
      "0.9958423045511916\n",
      "[[6474   46]\n",
      " [  10 6939]]\n",
      "              precision    recall  f1-score   support\n",
      "\n",
      "           0       1.00      0.99      1.00      6520\n",
      "           1       0.99      1.00      1.00      6949\n",
      "\n",
      "    accuracy                           1.00     13469\n",
      "   macro avg       1.00      1.00      1.00     13469\n",
      "weighted avg       1.00      1.00      1.00     13469\n",
      "\n"
     ]
    }
   ],
   "source": [
    "print(accuracy_score(y_predictions, y_test))\n",
    "print(confusion_matrix(y_predictions, y_test))\n",
    "print(classification_report(y_predictions, y_test))"
   ]
  },
  {
   "cell_type": "markdown",
   "id": "fc28a449",
   "metadata": {},
   "source": [
    "### Decision Tree Classifier"
   ]
  },
  {
   "cell_type": "code",
   "execution_count": 202,
   "id": "18ae88da",
   "metadata": {},
   "outputs": [],
   "source": [
    "model = DecisionTreeClassifier()\n",
    "model.fit(X_train_transformed, y_train)\n",
    "y_predictions = model.predict(X_test_transformed)"
   ]
  },
  {
   "cell_type": "code",
   "execution_count": 203,
   "id": "b98695bf",
   "metadata": {},
   "outputs": [
    {
     "name": "stdout",
     "output_type": "stream",
     "text": [
      "0.9974756849060806\n",
      "[[6466   16]\n",
      " [  18 6969]]\n",
      "              precision    recall  f1-score   support\n",
      "\n",
      "           0       1.00      1.00      1.00      6482\n",
      "           1       1.00      1.00      1.00      6987\n",
      "\n",
      "    accuracy                           1.00     13469\n",
      "   macro avg       1.00      1.00      1.00     13469\n",
      "weighted avg       1.00      1.00      1.00     13469\n",
      "\n"
     ]
    }
   ],
   "source": [
    "print(accuracy_score(y_predictions, y_test))\n",
    "print(confusion_matrix(y_predictions, y_test))\n",
    "print(classification_report(y_predictions, y_test))"
   ]
  },
  {
   "cell_type": "markdown",
   "id": "470b84d4",
   "metadata": {},
   "source": [
    "### Random Forest Classifier"
   ]
  },
  {
   "cell_type": "code",
   "execution_count": 204,
   "id": "2224157a",
   "metadata": {},
   "outputs": [],
   "source": [
    "from sklearn.ensemble import RandomForestClassifier"
   ]
  },
  {
   "cell_type": "code",
   "execution_count": 205,
   "id": "cae8a817",
   "metadata": {},
   "outputs": [],
   "source": [
    "model = RandomForestClassifier()\n",
    "model.fit(X_train_transformed, y_train)\n",
    "y_predictions = model.predict(X_test_transformed)"
   ]
  },
  {
   "cell_type": "code",
   "execution_count": 206,
   "id": "b8454664",
   "metadata": {},
   "outputs": [
    {
     "name": "stdout",
     "output_type": "stream",
     "text": [
      "0.9922785655950702\n",
      "[[6455   75]\n",
      " [  29 6910]]\n",
      "              precision    recall  f1-score   support\n",
      "\n",
      "           0       1.00      0.99      0.99      6530\n",
      "           1       0.99      1.00      0.99      6939\n",
      "\n",
      "    accuracy                           0.99     13469\n",
      "   macro avg       0.99      0.99      0.99     13469\n",
      "weighted avg       0.99      0.99      0.99     13469\n",
      "\n"
     ]
    }
   ],
   "source": [
    "print(accuracy_score(y_predictions, y_test))\n",
    "print(confusion_matrix(y_predictions, y_test))\n",
    "print(classification_report(y_predictions, y_test))"
   ]
  },
  {
   "cell_type": "markdown",
   "id": "1deeba92",
   "metadata": {},
   "source": [
    "## TFIDF Vectorizer"
   ]
  },
  {
   "cell_type": "code",
   "execution_count": 209,
   "id": "3de82856",
   "metadata": {},
   "outputs": [],
   "source": [
    "from sklearn.feature_extraction.text import TfidfVectorizer"
   ]
  },
  {
   "cell_type": "code",
   "execution_count": 210,
   "id": "c7af7dcc",
   "metadata": {},
   "outputs": [],
   "source": [
    "vectorizer = TfidfVectorizer()\n",
    "title_train_tfidf = vectorizer.fit_transform(X_train['title preprocessed'])\n",
    "title_test_tfidf = vectorizer.transform(X_test['title preprocessed'])\n",
    "\n",
    "text_train_tfidf = vectorizer.fit_transform(X_train['text preprocessed'])\n",
    "text_test_tfidf = vectorizer.transform(X_test['text preprocessed'])"
   ]
  },
  {
   "cell_type": "code",
   "execution_count": 60,
   "id": "c1951a84",
   "metadata": {},
   "outputs": [],
   "source": [
    "X_train_transformed = hstack((title_train_tfidf, text_train_tfidf))\n",
    "X_test_transformed = hstack((title_test_tfidf, text_test_tfidf))"
   ]
  },
  {
   "cell_type": "markdown",
   "id": "c6afebae",
   "metadata": {},
   "source": [
    "## Word2Vec Vectorizer"
   ]
  },
  {
   "cell_type": "code",
   "execution_count": 61,
   "id": "e45ee11f",
   "metadata": {},
   "outputs": [],
   "source": [
    "import gensim"
   ]
  },
  {
   "cell_type": "code",
   "execution_count": 62,
   "id": "fbb78795",
   "metadata": {},
   "outputs": [],
   "source": [
    "from gensim.models import Word2Vec"
   ]
  },
  {
   "cell_type": "code",
   "execution_count": 63,
   "id": "cafc43da",
   "metadata": {},
   "outputs": [],
   "source": [
    "train_title = [text.split(' ') for text in X_train['title preprocessed']]\n",
    "test_title = [text.split(' ') for text in X_test['title preprocessed']]"
   ]
  },
  {
   "cell_type": "code",
   "execution_count": 64,
   "id": "ceb656d0",
   "metadata": {},
   "outputs": [],
   "source": [
    "word2vec = Word2Vec(train_title, min_count = 2)"
   ]
  },
  {
   "cell_type": "code",
   "execution_count": 65,
   "id": "b9607d65",
   "metadata": {},
   "outputs": [
    {
     "data": {
      "text/plain": [
       "0.61654294"
      ]
     },
     "execution_count": 65,
     "metadata": {},
     "output_type": "execute_result"
    }
   ],
   "source": [
    "word2vec.wv.similarity('trump', 'hillary')"
   ]
  },
  {
   "cell_type": "code",
   "execution_count": 66,
   "id": "ae517a49",
   "metadata": {},
   "outputs": [
    {
     "data": {
      "text/plain": [
       "0.80205226"
      ]
     },
     "execution_count": 66,
     "metadata": {},
     "output_type": "execute_result"
    }
   ],
   "source": [
    "word2vec.wv.similarity('apple', 'email')"
   ]
  },
  {
   "cell_type": "code",
   "execution_count": 67,
   "id": "a22e4195",
   "metadata": {},
   "outputs": [
    {
     "data": {
      "text/plain": [
       "[('trump’s', 0.861196756362915),\n",
       " ('oliver', 0.8531867861747742),\n",
       " ('obama', 0.8469250798225403),\n",
       " ('psychiatrist', 0.8407729864120483),\n",
       " ('aug', 0.8398065567016602),\n",
       " ('anonymous', 0.8300782442092896),\n",
       " ('noam', 0.8270716071128845),\n",
       " ('trump…blames', 0.8264898657798767),\n",
       " ('cream', 0.8224700689315796),\n",
       " ('bette', 0.8176900744438171)]"
      ]
     },
     "execution_count": 67,
     "metadata": {},
     "output_type": "execute_result"
    }
   ],
   "source": [
    "word2vec.wv.most_similar('trump')"
   ]
  },
  {
   "cell_type": "code",
   "execution_count": 68,
   "id": "6fd91623",
   "metadata": {},
   "outputs": [
    {
     "data": {
      "text/plain": [
       "[('funeral', 0.9973785281181335),\n",
       " ('flood', 0.9973040223121643),\n",
       " ('illegals', 0.9972101449966431),\n",
       " ('truck', 0.9970853924751282),\n",
       " ('ring', 0.9970752596855164),\n",
       " ('museum', 0.9970503449440002),\n",
       " ('“refugees”', 0.9966311454772949),\n",
       " ('since', 0.9966306090354919),\n",
       " ('mass', 0.9966155290603638),\n",
       " ('several', 0.996551513671875)]"
      ]
     },
     "execution_count": 68,
     "metadata": {},
     "output_type": "execute_result"
    }
   ],
   "source": [
    "word2vec.wv.most_similar('laptop')"
   ]
  },
  {
   "cell_type": "code",
   "execution_count": 69,
   "id": "cdadc2e4",
   "metadata": {},
   "outputs": [
    {
     "data": {
      "text/plain": [
       "['lois',\n",
       " 'lerner',\n",
       " 'email',\n",
       " 'snippet',\n",
       " 'reveal',\n",
       " 'bitter',\n",
       " 'btch',\n",
       " '“lincoln',\n",
       " 'let',\n",
       " 'south',\n",
       " 'go…”']"
      ]
     },
     "execution_count": 69,
     "metadata": {},
     "output_type": "execute_result"
    }
   ],
   "source": [
    "train_title[0]"
   ]
  },
  {
   "cell_type": "code",
   "execution_count": null,
   "id": "b7c523f1",
   "metadata": {},
   "outputs": [],
   "source": []
  },
  {
   "cell_type": "code",
   "execution_count": 70,
   "id": "358eb5d4",
   "metadata": {},
   "outputs": [
    {
     "data": {
      "text/plain": [
       "['factbox',\n",
       " 'humanitarian',\n",
       " 'crisis',\n",
       " 'worsens',\n",
       " 'bangladesh',\n",
       " 'many',\n",
       " 'rohingya',\n",
       " 'flee',\n",
       " 'myanmar']"
      ]
     },
     "execution_count": 70,
     "metadata": {},
     "output_type": "execute_result"
    }
   ],
   "source": [
    "test_title[0]"
   ]
  },
  {
   "cell_type": "markdown",
   "id": "83af04b4",
   "metadata": {},
   "source": [
    " - This technique is based on the idea that each word in a document is represented as a vector in a continuous vector space (such as Word2Vec), and the document can be represented as the average of these word vectors."
   ]
  },
  {
   "cell_type": "code",
   "execution_count": null,
   "metadata": {},
   "outputs": [],
   "source": [
    "df_final['title preprocessed'] = df_final['title'].apply(text_preprocessor)"
   ]
  },
  {
   "cell_type": "code",
   "execution_count": 71,
   "id": "0966119c",
   "metadata": {},
   "outputs": [],
   "source": [
    "avgword2vec_train = []\n",
    "for i in range(len(train_title)):\n",
    "    word2vec_sum = 0\n",
    "    for j in range(len(train_title[i])):\n",
    "        try: \n",
    "            word2vec_sum = word2vec_sum + word2vec.wv.word_vec(train_title[i][j])           \n",
    "        except KeyError:\n",
    "            continue\n",
    "    avg_word2vec = word2vec_sum / (j + 1)\n",
    "    avgword2vec_train.append(avg_word2vec)"
   ]
  },
  {
   "cell_type": "code",
   "execution_count": 72,
   "id": "a00495a9",
   "metadata": {},
   "outputs": [],
   "source": [
    "avgword2vec_df_train = pd.DataFrame()\n",
    "avgword2vec_df_test = pd.DataFrame()"
   ]
  },
  {
   "cell_type": "code",
   "execution_count": 73,
   "id": "85c79200",
   "metadata": {},
   "outputs": [],
   "source": [
    "from tqdm import tqdm "
   ]
  },
  {
   "cell_type": "code",
   "execution_count": 74,
   "id": "69399403",
   "metadata": {},
   "outputs": [],
   "source": [
    "y_train.reset_index(drop = True, inplace = True)\n",
    "y_test.reset_index(drop = True, inplace = True)"
   ]
  },
  {
   "cell_type": "code",
   "execution_count": 75,
   "id": "11f16142",
   "metadata": {},
   "outputs": [
    {
     "name": "stderr",
     "output_type": "stream",
     "text": [
      "100%|████████████████████████████████████████████████████████████████████████████| 31428/31428 [06:35<00:00, 79.38it/s]\n"
     ]
    }
   ],
   "source": [
    "# This file can take about 5 minutes to run the code cell \n",
    "\n",
    "y_train_transformed = []\n",
    "for i in tqdm(range(len(avgword2vec_train))):\n",
    "    try:\n",
    "        avgword2vec_df_train = avgword2vec_df_train.append(pd.DataFrame(avgword2vec_train[i]).T)\n",
    "        y_train_transformed.append(y_train[i])\n",
    "    except ValueError:\n",
    "        continue"
   ]
  },
  {
   "cell_type": "code",
   "execution_count": 76,
   "id": "e6315e91",
   "metadata": {},
   "outputs": [],
   "source": [
    "avgword2vec_test = []\n",
    "for i in range(len(test_title)):\n",
    "    word2vec_sum = 0\n",
    "    for j in range(len(test_title[i])):\n",
    "        try: \n",
    "            word2vec_sum = word2vec_sum + word2vec.wv.word_vec(test_title[i][j])\n",
    "        except KeyError: \n",
    "            continue\n",
    "    avg_word2vec = word2vec_sum / (j + 1)\n",
    "    avgword2vec_test.append(avg_word2vec)"
   ]
  },
  {
   "cell_type": "code",
   "execution_count": 77,
   "id": "c58f96f4",
   "metadata": {},
   "outputs": [
    {
     "name": "stderr",
     "output_type": "stream",
     "text": [
      "100%|████████████████████████████████████████████████████████████████████████████| 13470/13470 [02:34<00:00, 87.21it/s]\n"
     ]
    }
   ],
   "source": [
    "# This file can take about 5 minutes to run the code cell \n",
    "\n",
    "y_test_transformed = []\n",
    "for i in tqdm(range(len(avgword2vec_test))):\n",
    "    try:\n",
    "        avgword2vec_df_test = avgword2vec_df_test.append(pd.DataFrame(avgword2vec_test[i]).T)\n",
    "        y_test_transformed.append(y_test[i])\n",
    "    except ValueError:\n",
    "        continue"
   ]
  },
  {
   "cell_type": "code",
   "execution_count": 78,
   "id": "049a6adf",
   "metadata": {},
   "outputs": [],
   "source": [
    "model = LogisticRegression()\n",
    "model.fit(avgword2vec_df_train, y_train_transformed)\n",
    "y_predictions = model.predict(avgword2vec_df_test)"
   ]
  },
  {
   "cell_type": "code",
   "execution_count": 79,
   "id": "df0d7f0a",
   "metadata": {},
   "outputs": [
    {
     "data": {
      "text/plain": [
       "array([0, 0, 1, ..., 1, 1, 1], dtype=int64)"
      ]
     },
     "execution_count": 79,
     "metadata": {},
     "output_type": "execute_result"
    }
   ],
   "source": [
    "y_predictions"
   ]
  },
  {
   "cell_type": "code",
   "execution_count": 80,
   "id": "3a783cc5",
   "metadata": {},
   "outputs": [
    {
     "data": {
      "text/plain": [
       "0.9117974608359938"
      ]
     },
     "execution_count": 80,
     "metadata": {},
     "output_type": "execute_result"
    }
   ],
   "source": [
    "accuracy_score(y_predictions, y_test_transformed)"
   ]
  },
  {
   "cell_type": "code",
   "execution_count": 81,
   "id": "e20912c6",
   "metadata": {},
   "outputs": [
    {
     "name": "stdout",
     "output_type": "stream",
     "text": [
      "              precision    recall  f1-score   support\n",
      "\n",
      "           0       0.90      0.91      0.91      6402\n",
      "           1       0.92      0.91      0.92      7067\n",
      "\n",
      "    accuracy                           0.91     13469\n",
      "   macro avg       0.91      0.91      0.91     13469\n",
      "weighted avg       0.91      0.91      0.91     13469\n",
      "\n"
     ]
    }
   ],
   "source": [
    "print(classification_report(y_predictions, y_test_transformed))"
   ]
  }
 ],
 "metadata": {
  "kernelspec": {
   "display_name": "Python 3 (ipykernel)",
   "language": "python",
   "name": "python3"
  },
  "language_info": {
   "codemirror_mode": {
    "name": "ipython",
    "version": 3
   },
   "file_extension": ".py",
   "mimetype": "text/x-python",
   "name": "python",
   "nbconvert_exporter": "python",
   "pygments_lexer": "ipython3",
   "version": "3.10.10"
  }
 },
 "nbformat": 4,
 "nbformat_minor": 5
}
